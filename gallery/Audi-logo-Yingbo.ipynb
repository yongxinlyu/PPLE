{
 "cells": [
  {
   "cell_type": "markdown",
   "id": "15267b33",
   "metadata": {},
   "source": [
    "### Audi logo by Yingbo"
   ]
  },
  {
   "cell_type": "code",
   "execution_count": null,
   "id": "a3933a78",
   "metadata": {},
   "outputs": [],
   "source": [
    "!pip install ColabTurtlePlus\n",
    "from ColabTurtlePlus.Turtle import *"
   ]
  },
  {
   "cell_type": "code",
   "execution_count": null,
   "id": "93309465",
   "metadata": {},
   "outputs": [],
   "source": [
    "clearscreen()\n",
    "initializeTurtle()\n",
    "speed(10)\n",
    "bgcolor(\"white\")\n",
    "\n",
    "pensize(10)\n",
    "\n",
    "penup()\n",
    "\n",
    "goto(-30, -100)\n",
    "pendown()\n",
    "pencolor(\"black\")\n",
    "circle(50)     # quick way to draw a circle\n",
    "penup()\n",
    "\n",
    "goto(-100, -100)\n",
    "pendown()\n",
    "pencolor(\"black\")\n",
    "circle(50)     # quick way to draw a circle\n",
    "penup()\n",
    "\n",
    "goto(-170, -100)\n",
    "pendown()\n",
    "pencolor(\"black\")\n",
    "circle(50)\n",
    "penup()\n",
    "\n",
    "\n",
    "goto(-240, -100)\n",
    "pendown()\n",
    "pencolor(\"black\")\n",
    "circle(50)\n",
    "\n",
    "#saveSVG(\"my drawing.svg\", )\n",
    "\n",
    "penup()\n",
    "goto(-258,-180)\n",
    "write(\"AUDI\",font=(\"American Typewriter\",90,\"italic\"))\n",
    "\n",
    "hideturtle()"
   ]
  }
 ],
 "metadata": {
  "language_info": {
   "name": "python"
  }
 },
 "nbformat": 4,
 "nbformat_minor": 5
}
