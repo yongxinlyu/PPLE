{
 "cells": [
  {
   "cell_type": "markdown",
   "id": "261eedb5",
   "metadata": {},
   "source": [
    "### Python Basics"
   ]
  },
  {
   "cell_type": "code",
   "execution_count": 1,
   "id": "74ab466d",
   "metadata": {},
   "outputs": [
    {
     "name": "stdout",
     "output_type": "stream",
     "text": [
      "hello world\n"
     ]
    }
   ],
   "source": [
    "print(\"hello world\")"
   ]
  },
  {
   "cell_type": "code",
   "execution_count": null,
   "id": "5c2c4d44",
   "metadata": {},
   "outputs": [],
   "source": [
    "# This is a simple calculator module with basic arithmetic operations.\n",
    "def add(a, b):\n",
    "    \"\"\"Returns the sum of a and b.\"\"\"\n",
    "    return a + b\n",
    "def subtract(a, b):\n",
    "    \"\"\"Returns the difference of a and b.\"\"\"\n",
    "    return a - b\n",
    "def multiply(a, b):\n",
    "    \"\"\"Returns the product of a and b.\"\"\"\n",
    "    return a * b\n",
    "def divide(a, b):\n",
    "    \"\"\"Returns the quotient of a and b.\"\"\"\n",
    "    if b == 0:\n",
    "        raise ValueError(\"Cannot divide by zero.\")\n",
    "    return a / b\n",
    "def power(base, exponent):\n",
    "    \"\"\"Returns base raised to the power of exponent.\"\"\"\n",
    "    return base ** exponent\n"
   ]
  },
  {
   "cell_type": "code",
   "execution_count": 3,
   "id": "df298fab",
   "metadata": {},
   "outputs": [
    {
     "data": {
      "text/plain": [
       "5"
      ]
     },
     "execution_count": 3,
     "metadata": {},
     "output_type": "execute_result"
    }
   ],
   "source": [
    "# use the calculator functions\n",
    "\n",
    "add(2, 3)  # Example usage of the add function"
   ]
  },
  {
   "cell_type": "code",
   "execution_count": null,
   "id": "204f640a",
   "metadata": {},
   "outputs": [],
   "source": []
  }
 ],
 "metadata": {
  "kernelspec": {
   "display_name": "CEIC6789",
   "language": "python",
   "name": "python3"
  },
  "language_info": {
   "codemirror_mode": {
    "name": "ipython",
    "version": 3
   },
   "file_extension": ".py",
   "mimetype": "text/x-python",
   "name": "python",
   "nbconvert_exporter": "python",
   "pygments_lexer": "ipython3",
   "version": "3.13.3"
  }
 },
 "nbformat": 4,
 "nbformat_minor": 5
}
