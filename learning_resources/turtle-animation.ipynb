{
  "cells": [
    {
      "cell_type": "markdown",
      "metadata": {
        "id": "_qKqNLUVypEf"
      },
      "source": [
        "### Creating Animations"
      ]
    },
    {
      "cell_type": "markdown",
      "metadata": {
        "id": "LS72CZ1ovUVV"
      },
      "source": [
        "#### Part 0 - Set up Colab\n",
        "Colab notebooks are like worksheets where each box is a small program you can run."
      ]
    },
    {
      "cell_type": "markdown",
      "metadata": {
        "id": "uXhBXwGHvIbb"
      },
      "source": [
        "#### Part 1 - Make turtle work in Colab\n",
        "Install turtle in Colab and set up the canvas"
      ]
    },
    {
      "cell_type": "code",
      "execution_count": 4,
      "metadata": {
        "colab": {
          "base_uri": "https://localhost:8080/",
          "height": 723
        },
        "id": "SCYQVHJBTumX",
        "outputId": "18b5d2e1-a3f5-4c6d-b414-6fac7f3e7739"
      },
      "outputs": [
        {
          "name": "stdout",
          "output_type": "stream",
          "text": [
            "Requirement already satisfied: ColabTurtlePlus in /Users/yongxinlyu/opt/anaconda3/envs/CEIC6789/lib/python3.13/site-packages (2.0.1)\n"
          ]
        }
      ],
      "source": [
        "!pip install ColabTurtlePlus\n",
        "from ColabTurtlePlus.Turtle import *\n",
        "initializeTurtle()          # sets up the canvas\n",
        "speed(10)                   # 1 (slow) to 13 (fastest)"
      ]
    },
    {
      "cell_type": "markdown",
      "metadata": {
        "id": "d-qOljDFwBj_"
      },
      "source": [
        "#### Part 2 - First moves\n",
        "Forward means walk, right/left means turn."
      ]
    },
    {
      "cell_type": "code",
      "execution_count": 5,
      "metadata": {
        "colab": {
          "base_uri": "https://localhost:8080/",
          "height": 621
        },
        "id": "Qxxb0I6gNaxm",
        "outputId": "6550ee74-08c4-432f-d4c9-967e802ff0b2"
      },
      "outputs": [
        {
          "data": {
            "text/html": [
              "\n",
              "      <svg width=\"800\" height=\"600\">  \n",
              "        <rect width=\"100%\" height=\"100%\" style=\"fill:white;stroke:;stroke-width:1\"/>\n",
              "        \n",
              "        \n",
              "        <line x1=\"400.0\" y1=\"300.0\" x2=\"500.0\" y2=\"300.0\" stroke-linecap=\"round\" style=\"stroke:black;stroke-width:1\" /><line x1=\"500.0\" y1=\"300.0\" x2=\"500.0\" y2=\"400.0\" stroke-linecap=\"round\" style=\"stroke:black;stroke-width:1\" /><line x1=\"500.0\" y1=\"400.0\" x2=\"400.0\" y2=\"400.0\" stroke-linecap=\"round\" style=\"stroke:black;stroke-width:1\" /><line x1=\"400.0\" y1=\"400.0\" x2=\"400.0\" y2=\"390.0\" stroke-linecap=\"round\" style=\"stroke:black;stroke-width:1\" /><line x1=\"400.0\" y1=\"390.0\" x2=\"400.0\" y2=\"380.0\" stroke-linecap=\"round\" style=\"stroke:black;stroke-width:1\" /><line x1=\"400.0\" y1=\"380.0\" x2=\"400.0\" y2=\"370.0\" stroke-linecap=\"round\" style=\"stroke:black;stroke-width:1\" /><line x1=\"400.0\" y1=\"370.0\" x2=\"400.0\" y2=\"360.0\" stroke-linecap=\"round\" style=\"stroke:black;stroke-width:1\" /><line x1=\"400.0\" y1=\"360.0\" x2=\"400.0\" y2=\"350.0\" stroke-linecap=\"round\" style=\"stroke:black;stroke-width:1\" /><line x1=\"400.0\" y1=\"350.0\" x2=\"400.0\" y2=\"340.0\" stroke-linecap=\"round\" style=\"stroke:black;stroke-width:1\" /><line x1=\"400.0\" y1=\"340.0\" x2=\"400.0\" y2=\"330.0\" stroke-linecap=\"round\" style=\"stroke:black;stroke-width:1\" /><line x1=\"400.0\" y1=\"330.0\" x2=\"400.0\" y2=\"320.0\" stroke-linecap=\"round\" style=\"stroke:black;stroke-width:1\" /><line x1=\"400.0\" y1=\"320.0\" x2=\"400.0\" y2=\"310.0\" stroke-linecap=\"round\" style=\"stroke:black;stroke-width:1\" /><line x1=\"400.0\" y1=\"310.0\" x2=\"400.0\" y2=\"300.0\" stroke-linecap=\"round\" style=\"stroke:black;stroke-width:1\" />\n",
              "        \n",
              "        \n",
              "        <g id=\"classic\" visibility=\"visible\" transform=\"rotate(180,400.0,300.0) translate(400.0, 300.0)\">\n",
              "<polygon points=\"-5,-4.5 0,-2.5 5,-4.5 0,4.5\" transform=\"skewX(0) scale(1,1)\" style=\"stroke:black;fill:black;stroke-width:1\" />\n",
              "</g>\n",
              "      </svg>\n",
              "    "
            ],
            "text/plain": [
              "<IPython.core.display.HTML object>"
            ]
          },
          "metadata": {},
          "output_type": "display_data"
        }
      ],
      "source": [
        "# Draw a square\n",
        "\n",
        "clearscreen()\n",
        "initializeTurtle()\n",
        "speed(5)\n",
        "\n",
        "forward(100)\n",
        "right(90) # what happens if we change 90 to 120?\n",
        "forward(100)\n",
        "right(90)\n",
        "forward(100)\n",
        "right(90)\n",
        "forward(100)"
      ]
    },
    {
      "cell_type": "markdown",
      "metadata": {
        "id": "Z-4KsrDUwgSN"
      },
      "source": [
        "Exercise:\n",
        "- Can you use left() to draw a square?"
      ]
    },
    {
      "cell_type": "code",
      "execution_count": 3,
      "metadata": {
        "id": "KMNFtM2lwspK"
      },
      "outputs": [],
      "source": []
    },
    {
      "cell_type": "markdown",
      "metadata": {
        "id": "4X2CwN8xwtft"
      },
      "source": [
        "#### Part 3: Don't repeat yourself: loops\n",
        "The magic of for loops!"
      ]
    },
    {
      "cell_type": "code",
      "execution_count": 6,
      "metadata": {
        "colab": {
          "base_uri": "https://localhost:8080/",
          "height": 621
        },
        "id": "f7RwzWP2T7On",
        "outputId": "1b8e6b65-8424-409c-9e6b-6ae97686a3e0"
      },
      "outputs": [
        {
          "data": {
            "text/html": [
              "\n",
              "      <svg width=\"800\" height=\"600\">  \n",
              "        <rect width=\"100%\" height=\"100%\" style=\"fill:white;stroke:;stroke-width:1\"/>\n",
              "        \n",
              "        \n",
              "        <line x1=\"400.0\" y1=\"300.0\" x2=\"520.0\" y2=\"300.0\" stroke-linecap=\"round\" style=\"stroke:black;stroke-width:1\" /><line x1=\"520.0\" y1=\"300.0\" x2=\"520.0\" y2=\"420.0\" stroke-linecap=\"round\" style=\"stroke:black;stroke-width:1\" /><line x1=\"520.0\" y1=\"420.0\" x2=\"400.0\" y2=\"420.0\" stroke-linecap=\"round\" style=\"stroke:black;stroke-width:1\" /><line x1=\"400.0\" y1=\"420.0\" x2=\"400.0\" y2=\"300.0\" stroke-linecap=\"round\" style=\"stroke:black;stroke-width:1\" />\n",
              "        \n",
              "        \n",
              "        <g id=\"classic\" visibility=\"visible\" transform=\"rotate(180,400.0,300.0) translate(400.0, 300.0)\">\n",
              "<polygon points=\"-5,-4.5 0,-2.5 5,-4.5 0,4.5\" transform=\"skewX(0) scale(1,1)\" style=\"stroke:black;fill:black;stroke-width:1\" />\n",
              "<animateTransform id = \"one\" attributeName=\"transform\" \n",
              "                      type=\"scale\"\n",
              "                      from=\"1 1\" to=\"1 1\"\n",
              "                      begin=\"0s\" dur=\"0.01s\"\n",
              "                      repeatCount=\"1\"\n",
              "                      additive=\"sum\"\n",
              "                      fill=\"freeze\"\n",
              "                /><animateTransform attributeName=\"transform\"\n",
              "                    type=\"rotate\"\n",
              "                    from=\"0 0 0\" to =\"90 0 0\"\n",
              "                    begin=\"one.end\" dur=\"0.25s\"\n",
              "                    repeatCount=\"1\"\n",
              "                    additive=\"sum\"\n",
              "                    fill=\"freeze\"\n",
              "                /></g>\n",
              "      </svg>\n",
              "    "
            ],
            "text/plain": [
              "<IPython.core.display.HTML object>"
            ]
          },
          "metadata": {},
          "output_type": "display_data"
        }
      ],
      "source": [
        "# Draw a square with a loop\n",
        "\n",
        "clearscreen()\n",
        "initializeTurtle()\n",
        "speed(5)\n",
        "\n",
        "for _ in range(4):\n",
        "    forward(120)\n",
        "    right(90)"
      ]
    },
    {
      "cell_type": "markdown",
      "metadata": {
        "id": "R6uB2GMGxGum"
      },
      "source": [
        "Mini-challenge:\n",
        "- Change the number of sides and the turning angle to make a triangle, pentagon, etc.\n",
        "- Make a “sun” by repeating a triangle many times."
      ]
    },
    {
      "cell_type": "code",
      "execution_count": 4,
      "metadata": {
        "id": "PPiWQgl6xMv-"
      },
      "outputs": [],
      "source": []
    },
    {
      "cell_type": "markdown",
      "metadata": {
        "id": "5YtPXSgXxRe2"
      },
      "source": [
        "#### Part 4 - Color and pen tricks\n",
        "Now we introduce pencolor(), pensize(), penup()/pendown(), goto()"
      ]
    },
    {
      "cell_type": "code",
      "execution_count": 7,
      "metadata": {
        "colab": {
          "base_uri": "https://localhost:8080/",
          "height": 621
        },
        "id": "7OG_DUJSUFfY",
        "outputId": "d4ffd288-ecd3-4914-be8c-289ef1406a1d"
      },
      "outputs": [
        {
          "data": {
            "text/html": [
              "\n",
              "      <svg width=\"800\" height=\"600\">  \n",
              "        <rect width=\"100%\" height=\"100%\" style=\"fill:white;stroke:;stroke-width:1\"/>\n",
              "        \n",
              "        \n",
              "        <line x1=\"400.0\" y1=\"300.0\" x2=\"540.0\" y2=\"300.0\" stroke-linecap=\"round\" style=\"stroke:blue;stroke-width:3\" /><line x1=\"540.0\" y1=\"300.0\" x2=\"470.0\" y2=\"178.756\" stroke-linecap=\"round\" style=\"stroke:blue;stroke-width:3\" /><line x1=\"470.0\" y1=\"178.756\" x2=\"400.0\" y2=\"300.0\" stroke-linecap=\"round\" style=\"stroke:blue;stroke-width:3\" /><path d=\"M 250.0 400.0 A 50 50 0 0 0 262.941 398.296\" stroke-linecap=\"round\" \n",
              "            fill=\"transparent\" fill-opacity=\"0\" style=\"stroke:red;stroke-width:3\"/><path d=\"M 262.941 398.296 A 50 50 0 0 0 275.0 393.301\" stroke-linecap=\"round\" \n",
              "            fill=\"transparent\" fill-opacity=\"0\" style=\"stroke:red;stroke-width:3\"/><path d=\"M 275.0 393.301 A 50 50 0 0 0 285.355 385.355\" stroke-linecap=\"round\" \n",
              "            fill=\"transparent\" fill-opacity=\"0\" style=\"stroke:red;stroke-width:3\"/><path d=\"M 285.355 385.355 A 50 50 0 0 0 293.301 375.0\" stroke-linecap=\"round\" \n",
              "            fill=\"transparent\" fill-opacity=\"0\" style=\"stroke:red;stroke-width:3\"/><path d=\"M 293.301 375.0 A 50 50 0 0 0 298.296 362.941\" stroke-linecap=\"round\" \n",
              "            fill=\"transparent\" fill-opacity=\"0\" style=\"stroke:red;stroke-width:3\"/><path d=\"M 298.296 362.941 A 50 50 0 0 0 300.0 350.0\" stroke-linecap=\"round\" \n",
              "            fill=\"transparent\" fill-opacity=\"0\" style=\"stroke:red;stroke-width:3\"/><path d=\"M 300.0 350.0 A 50 50 0 0 0 298.296 337.059\" stroke-linecap=\"round\" \n",
              "            fill=\"transparent\" fill-opacity=\"0\" style=\"stroke:red;stroke-width:3\"/><path d=\"M 298.296 337.059 A 50 50 0 0 0 293.301 325.0\" stroke-linecap=\"round\" \n",
              "            fill=\"transparent\" fill-opacity=\"0\" style=\"stroke:red;stroke-width:3\"/><path d=\"M 293.301 325.0 A 50 50 0 0 0 285.355 314.645\" stroke-linecap=\"round\" \n",
              "            fill=\"transparent\" fill-opacity=\"0\" style=\"stroke:red;stroke-width:3\"/><path d=\"M 285.355 314.645 A 50 50 0 0 0 275.0 306.699\" stroke-linecap=\"round\" \n",
              "            fill=\"transparent\" fill-opacity=\"0\" style=\"stroke:red;stroke-width:3\"/><path d=\"M 275.0 306.699 A 50 50 0 0 0 262.941 301.704\" stroke-linecap=\"round\" \n",
              "            fill=\"transparent\" fill-opacity=\"0\" style=\"stroke:red;stroke-width:3\"/><path d=\"M 262.941 301.704 A 50 50 0 0 0 250.0 300.0\" stroke-linecap=\"round\" \n",
              "            fill=\"transparent\" fill-opacity=\"0\" style=\"stroke:red;stroke-width:3\"/><path d=\"M 250.0 300.0 A 50 50 0 0 0 237.059 301.704\" stroke-linecap=\"round\" \n",
              "            fill=\"transparent\" fill-opacity=\"0\" style=\"stroke:red;stroke-width:3\"/><path d=\"M 237.059 301.704 A 50 50 0 0 0 225.0 306.699\" stroke-linecap=\"round\" \n",
              "            fill=\"transparent\" fill-opacity=\"0\" style=\"stroke:red;stroke-width:3\"/><path d=\"M 225.0 306.699 A 50 50 0 0 0 214.645 314.645\" stroke-linecap=\"round\" \n",
              "            fill=\"transparent\" fill-opacity=\"0\" style=\"stroke:red;stroke-width:3\"/><path d=\"M 214.645 314.645 A 50 50 0 0 0 206.699 325.0\" stroke-linecap=\"round\" \n",
              "            fill=\"transparent\" fill-opacity=\"0\" style=\"stroke:red;stroke-width:3\"/><path d=\"M 206.699 325.0 A 50 50 0 0 0 201.704 337.059\" stroke-linecap=\"round\" \n",
              "            fill=\"transparent\" fill-opacity=\"0\" style=\"stroke:red;stroke-width:3\"/><path d=\"M 201.704 337.059 A 50 50 0 0 0 200.0 350.0\" stroke-linecap=\"round\" \n",
              "            fill=\"transparent\" fill-opacity=\"0\" style=\"stroke:red;stroke-width:3\"/><path d=\"M 200.0 350.0 A 50 50 0 0 0 201.704 362.941\" stroke-linecap=\"round\" \n",
              "            fill=\"transparent\" fill-opacity=\"0\" style=\"stroke:red;stroke-width:3\"/><path d=\"M 201.704 362.941 A 50 50 0 0 0 206.699 375.0\" stroke-linecap=\"round\" \n",
              "            fill=\"transparent\" fill-opacity=\"0\" style=\"stroke:red;stroke-width:3\"/><path d=\"M 206.699 375.0 A 50 50 0 0 0 214.645 385.355\" stroke-linecap=\"round\" \n",
              "            fill=\"transparent\" fill-opacity=\"0\" style=\"stroke:red;stroke-width:3\"/><path d=\"M 214.645 385.355 A 50 50 0 0 0 225.0 393.301\" stroke-linecap=\"round\" \n",
              "            fill=\"transparent\" fill-opacity=\"0\" style=\"stroke:red;stroke-width:3\"/><path d=\"M 225.0 393.301 A 50 50 0 0 0 237.059 398.296\" stroke-linecap=\"round\" \n",
              "            fill=\"transparent\" fill-opacity=\"0\" style=\"stroke:red;stroke-width:3\"/><path d=\"M 237.059 398.296 A 50 50 0 0 0 250.0 400.0\" stroke-linecap=\"round\" \n",
              "            fill=\"transparent\" fill-opacity=\"0\" style=\"stroke:red;stroke-width:3\"/>\n",
              "        \n",
              "        \n",
              "        <g id=\"classic\" visibility=\"visible\" transform=\"rotate(-90.0,250.0,400.0) translate(250.0, 400.0)\">\n",
              "<polygon points=\"-5,-4.5 0,-2.5 5,-4.5 0,4.5\" transform=\"skewX(0) scale(1,1)\" style=\"stroke:red;fill:black;stroke-width:1\" />\n",
              "</g>\n",
              "      </svg>\n",
              "    "
            ],
            "text/plain": [
              "<IPython.core.display.HTML object>"
            ]
          },
          "metadata": {},
          "output_type": "display_data"
        }
      ],
      "source": [
        "# Draw colored triangle\n",
        "\n",
        "clearscreen()\n",
        "initializeTurtle()\n",
        "speed(5)\n",
        "\n",
        "pencolor(\"blue\")\n",
        "pensize(3)\n",
        "\n",
        "for _ in range(3):\n",
        "    forward(140)\n",
        "    left(120)"
      ]
    },
    {
      "cell_type": "code",
      "execution_count": 8,
      "metadata": {
        "colab": {
          "base_uri": "https://localhost:8080/",
          "height": 621
        },
        "id": "YfLdXQxzOxcg",
        "outputId": "097beaa1-0d82-421a-f05b-8a80f015c0ee"
      },
      "outputs": [],
      "source": [
        "# Jumping without drawing\n",
        "\n",
        "penup()\n",
        "goto(-150, -100)\n",
        "pendown()\n",
        "pencolor(\"red\")\n",
        "circle(50)     # quick way to draw a circle"
      ]
    },
    {
      "cell_type": "markdown",
      "metadata": {
        "id": "mFhwWdrXxyo9"
      },
      "source": [
        "#### Part 5 - A tiny animation"
      ]
    },
    {
      "cell_type": "code",
      "execution_count": 9,
      "metadata": {
        "colab": {
          "base_uri": "https://localhost:8080/",
          "height": 621
        },
        "id": "Ufif7G1gO1WS",
        "outputId": "13fc0877-5b30-4697-d420-867b7bf307ce"
      },
      "outputs": [
        {
          "data": {
            "text/html": [
              "\n",
              "      <svg width=\"800\" height=\"600\">  \n",
              "        <rect width=\"100%\" height=\"100%\" style=\"fill:white;stroke:;stroke-width:1\"/>\n",
              "        \n",
              "        \n",
              "        <line x1=\"400.0\" y1=\"300.0\" x2=\"520.0\" y2=\"300.0\" stroke-linecap=\"round\" style=\"stroke:green;stroke-width:1\" /><line x1=\"520.0\" y1=\"300.0\" x2=\"454.643\" y2=\"400.64\" stroke-linecap=\"round\" style=\"stroke:blue;stroke-width:1\" /><line x1=\"454.643\" y1=\"400.64\" x2=\"405.835\" y2=\"291.015\" stroke-linecap=\"round\" style=\"stroke:red;stroke-width:1\" /><line x1=\"405.835\" y1=\"291.015\" x2=\"524.358\" y2=\"309.787\" stroke-linecap=\"round\" style=\"stroke:green;stroke-width:1\" /><line x1=\"524.358\" y1=\"309.787\" x2=\"444.062\" y2=\"398.964\" stroke-linecap=\"round\" style=\"stroke:blue;stroke-width:1\" /><line x1=\"444.062\" y1=\"398.964\" x2=\"413.004\" y2=\"283.053\" stroke-linecap=\"round\" style=\"stroke:yellow;stroke-width:1\" /><line x1=\"413.004\" y1=\"283.053\" x2=\"527.131\" y2=\"320.135\" stroke-linecap=\"round\" style=\"stroke:yellow;stroke-width:1\" /><line x1=\"527.131\" y1=\"320.135\" x2=\"433.873\" y2=\"395.653\" stroke-linecap=\"round\" style=\"stroke:yellow;stroke-width:1\" /><line x1=\"433.873\" y1=\"395.653\" x2=\"421.33\" y2=\"276.31\" stroke-linecap=\"round\" style=\"stroke:red;stroke-width:1\" /><line x1=\"421.33\" y1=\"276.31\" x2=\"528.251\" y2=\"330.789\" stroke-linecap=\"round\" style=\"stroke:orange;stroke-width:1\" /><line x1=\"528.251\" y1=\"330.789\" x2=\"424.328\" y2=\"390.789\" stroke-linecap=\"round\" style=\"stroke:red;stroke-width:1\" /><line x1=\"424.328\" y1=\"390.789\" x2=\"430.608\" y2=\"270.953\" stroke-linecap=\"round\" style=\"stroke:purple;stroke-width:1\" /><line x1=\"430.608\" y1=\"270.953\" x2=\"527.69\" y2=\"341.487\" stroke-linecap=\"round\" style=\"stroke:purple;stroke-width:1\" /><line x1=\"527.69\" y1=\"341.487\" x2=\"415.66\" y2=\"384.491\" stroke-linecap=\"round\" style=\"stroke:yellow;stroke-width:1\" /><line x1=\"415.66\" y1=\"384.491\" x2=\"440.609\" y2=\"267.113\" stroke-linecap=\"round\" style=\"stroke:purple;stroke-width:1\" /><line x1=\"440.609\" y1=\"267.113\" x2=\"525.462\" y2=\"351.966\" stroke-linecap=\"round\" style=\"stroke:purple;stroke-width:1\" /><line x1=\"525.462\" y1=\"351.966\" x2=\"408.084\" y2=\"376.915\" stroke-linecap=\"round\" style=\"stroke:orange;stroke-width:1\" /><line x1=\"408.084\" y1=\"376.915\" x2=\"451.088\" y2=\"264.885\" stroke-linecap=\"round\" style=\"stroke:orange;stroke-width:1\" /><line x1=\"451.088\" y1=\"264.885\" x2=\"521.622\" y2=\"361.967\" stroke-linecap=\"round\" style=\"stroke:red;stroke-width:1\" /><line x1=\"521.622\" y1=\"361.967\" x2=\"401.786\" y2=\"368.247\" stroke-linecap=\"round\" style=\"stroke:purple;stroke-width:1\" /><line x1=\"401.786\" y1=\"368.247\" x2=\"461.786\" y2=\"264.324\" stroke-linecap=\"round\" style=\"stroke:purple;stroke-width:1\" /><line x1=\"461.786\" y1=\"264.324\" x2=\"516.265\" y2=\"371.245\" stroke-linecap=\"round\" style=\"stroke:yellow;stroke-width:1\" /><line x1=\"516.265\" y1=\"371.245\" x2=\"396.922\" y2=\"358.702\" stroke-linecap=\"round\" style=\"stroke:purple;stroke-width:1\" /><line x1=\"396.922\" y1=\"358.702\" x2=\"472.44\" y2=\"265.444\" stroke-linecap=\"round\" style=\"stroke:green;stroke-width:1\" /><line x1=\"472.44\" y1=\"265.444\" x2=\"509.522\" y2=\"379.571\" stroke-linecap=\"round\" style=\"stroke:yellow;stroke-width:1\" /><line x1=\"509.522\" y1=\"379.571\" x2=\"393.611\" y2=\"348.513\" stroke-linecap=\"round\" style=\"stroke:orange;stroke-width:1\" /><line x1=\"393.611\" y1=\"348.513\" x2=\"482.788\" y2=\"268.217\" stroke-linecap=\"round\" style=\"stroke:orange;stroke-width:1\" /><line x1=\"482.788\" y1=\"268.217\" x2=\"501.56\" y2=\"386.74\" stroke-linecap=\"round\" style=\"stroke:red;stroke-width:1\" /><line x1=\"501.56\" y1=\"386.74\" x2=\"391.935\" y2=\"337.932\" stroke-linecap=\"round\" style=\"stroke:yellow;stroke-width:1\" /><line x1=\"391.935\" y1=\"337.932\" x2=\"492.575\" y2=\"272.575\" stroke-linecap=\"round\" style=\"stroke:red;stroke-width:1\" /><line x1=\"492.575\" y1=\"272.575\" x2=\"492.575\" y2=\"392.575\" stroke-linecap=\"round\" style=\"stroke:orange;stroke-width:1\" /><line x1=\"492.575\" y1=\"392.575\" x2=\"391.935\" y2=\"327.218\" stroke-linecap=\"round\" style=\"stroke:purple;stroke-width:1\" /><line x1=\"391.935\" y1=\"327.218\" x2=\"501.56\" y2=\"278.41\" stroke-linecap=\"round\" style=\"stroke:orange;stroke-width:1\" /><line x1=\"501.56\" y1=\"278.41\" x2=\"482.788\" y2=\"396.933\" stroke-linecap=\"round\" style=\"stroke:red;stroke-width:1\" /><line x1=\"482.788\" y1=\"396.933\" x2=\"393.611\" y2=\"316.637\" stroke-linecap=\"round\" style=\"stroke:purple;stroke-width:1\" /><line x1=\"393.611\" y1=\"316.637\" x2=\"509.522\" y2=\"285.579\" stroke-linecap=\"round\" style=\"stroke:red;stroke-width:1\" /><line x1=\"509.522\" y1=\"285.579\" x2=\"472.44\" y2=\"399.706\" stroke-linecap=\"round\" style=\"stroke:green;stroke-width:1\" /><line x1=\"472.44\" y1=\"399.706\" x2=\"396.922\" y2=\"306.448\" stroke-linecap=\"round\" style=\"stroke:green;stroke-width:1\" /><line x1=\"396.922\" y1=\"306.448\" x2=\"516.265\" y2=\"293.905\" stroke-linecap=\"round\" style=\"stroke:red;stroke-width:1\" /><line x1=\"516.265\" y1=\"293.905\" x2=\"461.786\" y2=\"400.826\" stroke-linecap=\"round\" style=\"stroke:yellow;stroke-width:1\" /><line x1=\"461.786\" y1=\"400.826\" x2=\"401.786\" y2=\"296.903\" stroke-linecap=\"round\" style=\"stroke:orange;stroke-width:1\" /><line x1=\"401.786\" y1=\"296.903\" x2=\"521.622\" y2=\"303.183\" stroke-linecap=\"round\" style=\"stroke:green;stroke-width:1\" /><line x1=\"521.622\" y1=\"303.183\" x2=\"451.088\" y2=\"400.265\" stroke-linecap=\"round\" style=\"stroke:green;stroke-width:1\" /><line x1=\"451.088\" y1=\"400.265\" x2=\"408.084\" y2=\"288.235\" stroke-linecap=\"round\" style=\"stroke:purple;stroke-width:1\" /><line x1=\"408.084\" y1=\"288.235\" x2=\"525.462\" y2=\"313.184\" stroke-linecap=\"round\" style=\"stroke:yellow;stroke-width:1\" /><line x1=\"525.462\" y1=\"313.184\" x2=\"440.609\" y2=\"398.037\" stroke-linecap=\"round\" style=\"stroke:yellow;stroke-width:1\" /><line x1=\"440.609\" y1=\"398.037\" x2=\"415.66\" y2=\"280.659\" stroke-linecap=\"round\" style=\"stroke:blue;stroke-width:1\" /><line x1=\"415.66\" y1=\"280.659\" x2=\"527.69\" y2=\"323.663\" stroke-linecap=\"round\" style=\"stroke:yellow;stroke-width:1\" /><line x1=\"527.69\" y1=\"323.663\" x2=\"430.608\" y2=\"394.197\" stroke-linecap=\"round\" style=\"stroke:yellow;stroke-width:1\" /><line x1=\"430.608\" y1=\"394.197\" x2=\"424.328\" y2=\"274.361\" stroke-linecap=\"round\" style=\"stroke:blue;stroke-width:1\" /><line x1=\"424.328\" y1=\"274.361\" x2=\"528.251\" y2=\"334.361\" stroke-linecap=\"round\" style=\"stroke:orange;stroke-width:1\" /><line x1=\"528.251\" y1=\"334.361\" x2=\"421.33\" y2=\"388.84\" stroke-linecap=\"round\" style=\"stroke:green;stroke-width:1\" /><line x1=\"421.33\" y1=\"388.84\" x2=\"433.873\" y2=\"269.497\" stroke-linecap=\"round\" style=\"stroke:blue;stroke-width:1\" /><line x1=\"433.873\" y1=\"269.497\" x2=\"527.131\" y2=\"345.015\" stroke-linecap=\"round\" style=\"stroke:purple;stroke-width:1\" /><line x1=\"527.131\" y1=\"345.015\" x2=\"413.004\" y2=\"382.097\" stroke-linecap=\"round\" style=\"stroke:green;stroke-width:1\" /><line x1=\"413.004\" y1=\"382.097\" x2=\"444.062\" y2=\"266.186\" stroke-linecap=\"round\" style=\"stroke:blue;stroke-width:1\" /><line x1=\"444.062\" y1=\"266.186\" x2=\"524.358\" y2=\"355.363\" stroke-linecap=\"round\" style=\"stroke:red;stroke-width:1\" /><line x1=\"524.358\" y1=\"355.363\" x2=\"405.835\" y2=\"374.135\" stroke-linecap=\"round\" style=\"stroke:blue;stroke-width:1\" /><line x1=\"405.835\" y1=\"374.135\" x2=\"454.643\" y2=\"264.51\" stroke-linecap=\"round\" style=\"stroke:orange;stroke-width:1\" /><line x1=\"454.643\" y1=\"264.51\" x2=\"520.0\" y2=\"365.15\" stroke-linecap=\"round\" style=\"stroke:purple;stroke-width:1\" />\n",
              "        \n",
              "        \n",
              "        <g id=\"classic\" visibility=\"visible\" transform=\"rotate(-33,520.0,365.15) translate(520.0, 365.15)\">\n",
              "<polygon points=\"-5,-4.5 0,-2.5 5,-4.5 0,4.5\" transform=\"skewX(0) scale(1,1)\" style=\"stroke:purple;fill:black;stroke-width:1\" />\n",
              "<animateTransform id = \"one\" attributeName=\"transform\" \n",
              "                      type=\"scale\"\n",
              "                      from=\"1 1\" to=\"1 1\"\n",
              "                      begin=\"0s\" dur=\"0.01s\"\n",
              "                      repeatCount=\"1\"\n",
              "                      additive=\"sum\"\n",
              "                      fill=\"freeze\"\n",
              "                /><animateTransform attributeName=\"transform\"\n",
              "                    type=\"rotate\"\n",
              "                    from=\"0 0 0\" to =\"123 0 0\"\n",
              "                    begin=\"one.end\" dur=\"0.006833333333333334s\"\n",
              "                    repeatCount=\"1\"\n",
              "                    additive=\"sum\"\n",
              "                    fill=\"freeze\"\n",
              "                /></g>\n",
              "      </svg>\n",
              "    "
            ],
            "text/plain": [
              "<IPython.core.display.HTML object>"
            ]
          },
          "metadata": {},
          "output_type": "display_data"
        }
      ],
      "source": [
        "# Spinning color pinwheel\n",
        "\n",
        "import random\n",
        "\n",
        "clearscreen()\n",
        "initializeTurtle()\n",
        "speed(13)\n",
        "\n",
        "colors = [\"red\", \"orange\", \"yellow\", \"green\", \"blue\", \"purple\"]\n",
        "\n",
        "for _ in range(60):           # 60 “frames”\n",
        "    pencolor(random.choice(colors))\n",
        "    forward(120)\n",
        "    right(123)                # not a divisor of 360 -> nice spiral/star"
      ]
    },
    {
      "cell_type": "markdown",
      "metadata": {
        "id": "zh3P8j9syBYT"
      },
      "source": [
        "Try variations:\n",
        "- Smaller/larger steps (e.g., forward(80)).\n",
        "- Different turn (e.g., right(137) for a different starburst).\n",
        "- Thicker lines: pensize(2) or pensize(5)."
      ]
    },
    {
      "cell_type": "markdown",
      "metadata": {
        "id": "IJpb2zcXySN5"
      },
      "source": [
        "#### Part 6 - Bonus: make a reusable star function"
      ]
    },
    {
      "cell_type": "code",
      "execution_count": 10,
      "metadata": {
        "colab": {
          "base_uri": "https://localhost:8080/",
          "height": 621
        },
        "id": "l55S0pxcPEZy",
        "outputId": "50254d4d-3203-432d-8210-a1c8e428e163"
      },
      "outputs": [
        {
          "data": {
            "text/html": [
              "\n",
              "      <svg width=\"800\" height=\"600\">  \n",
              "        <rect width=\"100%\" height=\"100%\" style=\"fill:white;stroke:;stroke-width:1\"/>\n",
              "        \n",
              "        \n",
              "        <path fill-rule=\"evenodd\" fill-opacity=\"1\" d=\"M 200.0 300.0  L 260.0 300.0  L 211.459 335.267  L 230.0 278.204  L 248.541 335.267  L 200.0 300.0 \" stroke-linecap=\"round\" style=\"stroke:red;stroke-width:1\" fill=\"red\" /><path fill-rule=\"evenodd\" fill-opacity=\"1\" d=\"M 280.0 300.0  L 340.0 300.0  L 291.459 335.267  L 310.0 278.204  L 328.541 335.267  L 280.0 300.0 \" stroke-linecap=\"round\" style=\"stroke:orange;stroke-width:1\" fill=\"orange\" /><path fill-rule=\"evenodd\" fill-opacity=\"1\" d=\"M 360.0 300.0  L 420.0 300.0  L 371.459 335.267  L 390.0 278.204  L 408.541 335.267  L 360.0 300.0 \" stroke-linecap=\"round\" style=\"stroke:yellow;stroke-width:1\" fill=\"yellow\" /><path fill-rule=\"evenodd\" fill-opacity=\"1\" d=\"M 440.0 300.0  L 500.0 300.0  L 451.459 335.267  L 470.0 278.204  L 488.541 335.267  L 440.0 300.0 \" stroke-linecap=\"round\" style=\"stroke:green;stroke-width:1\" fill=\"green\" /><path fill-rule=\"evenodd\" fill-opacity=\"1\" d=\"M 520.0 300.0  L 580.0 300.0  L 531.459 335.267  L 550.0 278.204  L 568.541 335.267  L 520.0 300.0 \" stroke-linecap=\"round\" style=\"stroke:blue;stroke-width:1\" fill=\"blue\" />\n",
              "        \n",
              "        \n",
              "        <g id=\"classic\" visibility=\"visible\" transform=\"rotate(-90,600.0,300.0) translate(600.0, 300.0)\">\n",
              "<polygon points=\"-5,-4.5 0,-2.5 5,-4.5 0,4.5\" transform=\"skewX(0) scale(1,1)\" style=\"stroke:blue;fill:blue;stroke-width:1\" />\n",
              "</g>\n",
              "      </svg>\n",
              "    "
            ],
            "text/plain": [
              "<IPython.core.display.HTML object>"
            ]
          },
          "metadata": {},
          "output_type": "display_data"
        }
      ],
      "source": [
        "clearscreen()\n",
        "initializeTurtle()\n",
        "speed(12)\n",
        "\n",
        "def star(size, color):\n",
        "    pencolor(color)\n",
        "    fillcolor(color)\n",
        "    begin_fill()\n",
        "    for _ in range(5):\n",
        "        forward(size)\n",
        "        right(144)\n",
        "    end_fill()\n",
        "\n",
        "# draw a row of stars\n",
        "penup(); goto(-200, 0); pendown()\n",
        "for c in [\"red\", \"orange\", \"yellow\", \"green\", \"blue\"]:\n",
        "    star(60, c)\n",
        "    penup()\n",
        "    forward(80)\n",
        "    pendown()"
      ]
    }
  ],
  "metadata": {
    "colab": {
      "provenance": [],
      "toc_visible": true
    },
    "kernelspec": {
      "display_name": "CEIC6789",
      "language": "python",
      "name": "python3"
    },
    "language_info": {
      "codemirror_mode": {
        "name": "ipython",
        "version": 3
      },
      "file_extension": ".py",
      "mimetype": "text/x-python",
      "name": "python",
      "nbconvert_exporter": "python",
      "pygments_lexer": "ipython3",
      "version": "3.13.3"
    }
  },
  "nbformat": 4,
  "nbformat_minor": 0
}
