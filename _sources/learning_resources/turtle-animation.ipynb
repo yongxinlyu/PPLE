{
  "cells": [
    {
      "cell_type": "markdown",
      "metadata": {},
      "source": [
        "### Turtle animations"
      ]
    },
    {
      "cell_type": "code",
      "execution_count": 2,
      "metadata": {
        "colab": {
          "base_uri": "https://localhost:8080/"
        },
        "id": "SCYQVHJBTumX",
        "outputId": "c4fd7953-43a1-4538-cd8a-61a5bba40cf9"
      },
      "outputs": [
        {
          "name": "stdout",
          "output_type": "stream",
          "text": [
            "Collecting ColabTurtlePlus\n",
            "  Downloading ColabTurtlePlus-2.0.1-py3-none-any.whl.metadata (10 kB)\n",
            "Downloading ColabTurtlePlus-2.0.1-py3-none-any.whl (31 kB)\n",
            "Installing collected packages: ColabTurtlePlus\n",
            "Successfully installed ColabTurtlePlus-2.0.1\n",
            "Put clearscreen() as the first line in a cell (after the import command) to re-run turtle commands in the cell\n"
          ]
        }
      ],
      "source": [
        "!pip install ColabTurtlePlus\n",
        "from ColabTurtlePlus.Turtle import *\n",
        "initializeTurtle()"
      ]
    },
    {
      "cell_type": "code",
      "execution_count": 19,
      "metadata": {
        "colab": {
          "base_uri": "https://localhost:8080/",
          "height": 621
        },
        "id": "f7RwzWP2T7On",
        "outputId": "0bf0e3ef-6d01-410f-95a7-c0aeacc54fe2"
      },
      "outputs": [
        {
          "data": {
            "text/html": [
              "\n",
              "      <svg width=\"800\" height=\"600\">  \n",
              "        <rect width=\"100%\" height=\"100%\" style=\"fill:black;stroke:;stroke-width:1\"/>\n",
              "        \n",
              "        \n",
              "        \n",
              "        \n",
              "        \n",
              "        <g id=\"classic\" visibility=\"visible\" transform=\"rotate(-90,400.0,300.0) translate(400.0, 300.0)\">\n",
              "<polygon points=\"-5,-4.5 0,-2.5 5,-4.5 0,4.5\" transform=\"skewX(0) scale(1,1)\" style=\"stroke:black;fill:black;stroke-width:1\" />\n",
              "</g>\n",
              "      </svg>\n",
              "    "
            ],
            "text/plain": [
              "<IPython.core.display.HTML object>"
            ]
          },
          "metadata": {},
          "output_type": "display_data"
        }
      ],
      "source": [
        "initializeTurtle() #window=(200,200)"
      ]
    },
    {
      "cell_type": "code",
      "execution_count": 11,
      "metadata": {
        "colab": {
          "base_uri": "https://localhost:8080/",
          "height": 221
        },
        "id": "7OG_DUJSUFfY",
        "outputId": "110236c4-c2fc-4658-fe94-ab19c3bab427"
      },
      "outputs": [
        {
          "data": {
            "text/html": [
              "\n",
              "      <svg width=\"200\" height=\"200\">  \n",
              "        <rect width=\"100%\" height=\"100%\" style=\"fill:white;stroke:;stroke-width:1\"/>\n",
              "        \n",
              "        \n",
              "        <line x1=\"100.0\" y1=\"100.0\" x2=\"200.0\" y2=\"100.0\" stroke-linecap=\"round\" style=\"stroke:black;stroke-width:1\" /><line x1=\"200.0\" y1=\"100.0\" x2=\"200.0\" y2=\"200.0\" stroke-linecap=\"round\" style=\"stroke:black;stroke-width:1\" /><line x1=\"200.0\" y1=\"200.0\" x2=\"100.0\" y2=\"200.0\" stroke-linecap=\"round\" style=\"stroke:black;stroke-width:1\" /><line x1=\"100.0\" y1=\"200.0\" x2=\"100.0\" y2=\"100.0\" stroke-linecap=\"round\" style=\"stroke:black;stroke-width:1\" />\n",
              "        \n",
              "        \n",
              "        <g id=\"classic\" visibility=\"visible\" transform=\"rotate(180,100.0,100.0) translate(100.0, 100.0)\">\n",
              "<polygon points=\"-5,-4.5 0,-2.5 5,-4.5 0,4.5\" transform=\"skewX(0) scale(1,1)\" style=\"stroke:black;fill:black;stroke-width:1\" />\n",
              "<animateTransform id = \"one\" attributeName=\"transform\" \n",
              "                      type=\"scale\"\n",
              "                      from=\"1 1\" to=\"1 1\"\n",
              "                      begin=\"0s\" dur=\"0.01s\"\n",
              "                      repeatCount=\"1\"\n",
              "                      additive=\"sum\"\n",
              "                      fill=\"freeze\"\n",
              "                /><animateTransform attributeName=\"transform\"\n",
              "                    type=\"rotate\"\n",
              "                    from=\"0 0 0\" to =\"90 0 0\"\n",
              "                    begin=\"one.end\" dur=\"0.25s\"\n",
              "                    repeatCount=\"1\"\n",
              "                    additive=\"sum\"\n",
              "                    fill=\"freeze\"\n",
              "                /></g>\n",
              "      </svg>\n",
              "    "
            ],
            "text/plain": [
              "<IPython.core.display.HTML object>"
            ]
          },
          "metadata": {},
          "output_type": "display_data"
        }
      ],
      "source": [
        "reset()\n",
        "speed(5)\n",
        "for _ in range(4):\n",
        "    forward(100)\n",
        "    right(90)"
      ]
    },
    {
      "cell_type": "code",
      "execution_count": 12,
      "metadata": {
        "colab": {
          "base_uri": "https://localhost:8080/",
          "height": 221
        },
        "id": "3j7zql1TU_h5",
        "outputId": "3ccf4bae-7594-4a25-8dcd-ff0da5cd2529"
      },
      "outputs": [
        {
          "data": {
            "text/html": [
              "\n",
              "      <svg width=\"200\" height=\"200\">  \n",
              "        <rect width=\"100%\" height=\"100%\" style=\"fill:white;stroke:;stroke-width:1\"/>\n",
              "        \n",
              "        \n",
              "        <line x1=\"100.0\" y1=\"100.0\" x2=\"200.0\" y2=\"100.0\" stroke-linecap=\"round\" style=\"stroke:blue;stroke-width:1\" /><line x1=\"200.0\" y1=\"100.0\" x2=\"100.0\" y2=\"100.0\" stroke-linecap=\"round\" style=\"stroke:blue;stroke-width:1\" /><line x1=\"100.0\" y1=\"100.0\" x2=\"198.481\" y2=\"117.365\" stroke-linecap=\"round\" style=\"stroke:blue;stroke-width:1\" /><line x1=\"198.481\" y1=\"117.365\" x2=\"100.0\" y2=\"100.0\" stroke-linecap=\"round\" style=\"stroke:blue;stroke-width:1\" /><line x1=\"100.0\" y1=\"100.0\" x2=\"193.969\" y2=\"134.202\" stroke-linecap=\"round\" style=\"stroke:blue;stroke-width:1\" /><line x1=\"193.969\" y1=\"134.202\" x2=\"100.0\" y2=\"100.0\" stroke-linecap=\"round\" style=\"stroke:blue;stroke-width:1\" /><line x1=\"100.0\" y1=\"100.0\" x2=\"186.603\" y2=\"150.0\" stroke-linecap=\"round\" style=\"stroke:blue;stroke-width:1\" /><line x1=\"186.603\" y1=\"150.0\" x2=\"100.0\" y2=\"100.0\" stroke-linecap=\"round\" style=\"stroke:blue;stroke-width:1\" /><line x1=\"100.0\" y1=\"100.0\" x2=\"176.604\" y2=\"164.279\" stroke-linecap=\"round\" style=\"stroke:blue;stroke-width:1\" /><line x1=\"176.604\" y1=\"164.279\" x2=\"100.0\" y2=\"100.0\" stroke-linecap=\"round\" style=\"stroke:blue;stroke-width:1\" /><line x1=\"100.0\" y1=\"100.0\" x2=\"164.279\" y2=\"176.604\" stroke-linecap=\"round\" style=\"stroke:blue;stroke-width:1\" /><line x1=\"164.279\" y1=\"176.604\" x2=\"100.0\" y2=\"100.0\" stroke-linecap=\"round\" style=\"stroke:blue;stroke-width:1\" /><line x1=\"100.0\" y1=\"100.0\" x2=\"150.0\" y2=\"186.603\" stroke-linecap=\"round\" style=\"stroke:blue;stroke-width:1\" /><line x1=\"150.0\" y1=\"186.603\" x2=\"100.0\" y2=\"100.0\" stroke-linecap=\"round\" style=\"stroke:blue;stroke-width:1\" /><line x1=\"100.0\" y1=\"100.0\" x2=\"134.202\" y2=\"193.969\" stroke-linecap=\"round\" style=\"stroke:blue;stroke-width:1\" /><line x1=\"134.202\" y1=\"193.969\" x2=\"100.0\" y2=\"100.0\" stroke-linecap=\"round\" style=\"stroke:blue;stroke-width:1\" /><line x1=\"100.0\" y1=\"100.0\" x2=\"117.365\" y2=\"198.481\" stroke-linecap=\"round\" style=\"stroke:blue;stroke-width:1\" /><line x1=\"117.365\" y1=\"198.481\" x2=\"100.0\" y2=\"100.0\" stroke-linecap=\"round\" style=\"stroke:blue;stroke-width:1\" /><line x1=\"100.0\" y1=\"100.0\" x2=\"100.0\" y2=\"200.0\" stroke-linecap=\"round\" style=\"stroke:blue;stroke-width:1\" /><line x1=\"100.0\" y1=\"200.0\" x2=\"100.0\" y2=\"100.0\" stroke-linecap=\"round\" style=\"stroke:blue;stroke-width:1\" /><line x1=\"100.0\" y1=\"100.0\" x2=\"82.635\" y2=\"198.481\" stroke-linecap=\"round\" style=\"stroke:blue;stroke-width:1\" /><line x1=\"82.635\" y1=\"198.481\" x2=\"100.0\" y2=\"100.0\" stroke-linecap=\"round\" style=\"stroke:blue;stroke-width:1\" /><line x1=\"100.0\" y1=\"100.0\" x2=\"65.798\" y2=\"193.969\" stroke-linecap=\"round\" style=\"stroke:blue;stroke-width:1\" /><line x1=\"65.798\" y1=\"193.969\" x2=\"100.0\" y2=\"100.0\" stroke-linecap=\"round\" style=\"stroke:blue;stroke-width:1\" /><line x1=\"100.0\" y1=\"100.0\" x2=\"50.0\" y2=\"186.603\" stroke-linecap=\"round\" style=\"stroke:blue;stroke-width:1\" /><line x1=\"50.0\" y1=\"186.603\" x2=\"100.0\" y2=\"100.0\" stroke-linecap=\"round\" style=\"stroke:blue;stroke-width:1\" /><line x1=\"100.0\" y1=\"100.0\" x2=\"35.721\" y2=\"176.604\" stroke-linecap=\"round\" style=\"stroke:blue;stroke-width:1\" /><line x1=\"35.721\" y1=\"176.604\" x2=\"100.0\" y2=\"100.0\" stroke-linecap=\"round\" style=\"stroke:blue;stroke-width:1\" /><line x1=\"100.0\" y1=\"100.0\" x2=\"23.396\" y2=\"164.279\" stroke-linecap=\"round\" style=\"stroke:blue;stroke-width:1\" /><line x1=\"23.396\" y1=\"164.279\" x2=\"100.0\" y2=\"100.0\" stroke-linecap=\"round\" style=\"stroke:blue;stroke-width:1\" /><line x1=\"100.0\" y1=\"100.0\" x2=\"13.397\" y2=\"150.0\" stroke-linecap=\"round\" style=\"stroke:blue;stroke-width:1\" /><line x1=\"13.397\" y1=\"150.0\" x2=\"100.0\" y2=\"100.0\" stroke-linecap=\"round\" style=\"stroke:blue;stroke-width:1\" /><line x1=\"100.0\" y1=\"100.0\" x2=\"6.031\" y2=\"134.202\" stroke-linecap=\"round\" style=\"stroke:blue;stroke-width:1\" /><line x1=\"6.031\" y1=\"134.202\" x2=\"100.0\" y2=\"100.0\" stroke-linecap=\"round\" style=\"stroke:blue;stroke-width:1\" /><line x1=\"100.0\" y1=\"100.0\" x2=\"1.519\" y2=\"117.365\" stroke-linecap=\"round\" style=\"stroke:blue;stroke-width:1\" /><line x1=\"1.519\" y1=\"117.365\" x2=\"100.0\" y2=\"100.0\" stroke-linecap=\"round\" style=\"stroke:blue;stroke-width:1\" /><line x1=\"100.0\" y1=\"100.0\" x2=\"0.0\" y2=\"100.0\" stroke-linecap=\"round\" style=\"stroke:blue;stroke-width:1\" /><line x1=\"0.0\" y1=\"100.0\" x2=\"100.0\" y2=\"100.0\" stroke-linecap=\"round\" style=\"stroke:blue;stroke-width:1\" /><line x1=\"100.0\" y1=\"100.0\" x2=\"1.519\" y2=\"82.635\" stroke-linecap=\"round\" style=\"stroke:blue;stroke-width:1\" /><line x1=\"1.519\" y1=\"82.635\" x2=\"100.0\" y2=\"100.0\" stroke-linecap=\"round\" style=\"stroke:blue;stroke-width:1\" /><line x1=\"100.0\" y1=\"100.0\" x2=\"6.031\" y2=\"65.798\" stroke-linecap=\"round\" style=\"stroke:blue;stroke-width:1\" /><line x1=\"6.031\" y1=\"65.798\" x2=\"100.0\" y2=\"100.0\" stroke-linecap=\"round\" style=\"stroke:blue;stroke-width:1\" /><line x1=\"100.0\" y1=\"100.0\" x2=\"13.397\" y2=\"50.0\" stroke-linecap=\"round\" style=\"stroke:blue;stroke-width:1\" /><line x1=\"13.397\" y1=\"50.0\" x2=\"100.0\" y2=\"100.0\" stroke-linecap=\"round\" style=\"stroke:blue;stroke-width:1\" /><line x1=\"100.0\" y1=\"100.0\" x2=\"23.396\" y2=\"35.721\" stroke-linecap=\"round\" style=\"stroke:blue;stroke-width:1\" /><line x1=\"23.396\" y1=\"35.721\" x2=\"100.0\" y2=\"100.0\" stroke-linecap=\"round\" style=\"stroke:blue;stroke-width:1\" /><line x1=\"100.0\" y1=\"100.0\" x2=\"35.721\" y2=\"23.396\" stroke-linecap=\"round\" style=\"stroke:blue;stroke-width:1\" /><line x1=\"35.721\" y1=\"23.396\" x2=\"100.0\" y2=\"100.0\" stroke-linecap=\"round\" style=\"stroke:blue;stroke-width:1\" /><line x1=\"100.0\" y1=\"100.0\" x2=\"50.0\" y2=\"13.397\" stroke-linecap=\"round\" style=\"stroke:blue;stroke-width:1\" /><line x1=\"50.0\" y1=\"13.397\" x2=\"100.0\" y2=\"100.0\" stroke-linecap=\"round\" style=\"stroke:blue;stroke-width:1\" /><line x1=\"100.0\" y1=\"100.0\" x2=\"65.798\" y2=\"6.031\" stroke-linecap=\"round\" style=\"stroke:blue;stroke-width:1\" /><line x1=\"65.798\" y1=\"6.031\" x2=\"100.0\" y2=\"100.0\" stroke-linecap=\"round\" style=\"stroke:blue;stroke-width:1\" /><line x1=\"100.0\" y1=\"100.0\" x2=\"82.635\" y2=\"1.519\" stroke-linecap=\"round\" style=\"stroke:blue;stroke-width:1\" /><line x1=\"82.635\" y1=\"1.519\" x2=\"100.0\" y2=\"100.0\" stroke-linecap=\"round\" style=\"stroke:blue;stroke-width:1\" /><line x1=\"100.0\" y1=\"100.0\" x2=\"100.0\" y2=\"0.0\" stroke-linecap=\"round\" style=\"stroke:blue;stroke-width:1\" /><line x1=\"100.0\" y1=\"0.0\" x2=\"100.0\" y2=\"100.0\" stroke-linecap=\"round\" style=\"stroke:blue;stroke-width:1\" /><line x1=\"100.0\" y1=\"100.0\" x2=\"117.365\" y2=\"1.519\" stroke-linecap=\"round\" style=\"stroke:blue;stroke-width:1\" /><line x1=\"117.365\" y1=\"1.519\" x2=\"100.0\" y2=\"100.0\" stroke-linecap=\"round\" style=\"stroke:blue;stroke-width:1\" /><line x1=\"100.0\" y1=\"100.0\" x2=\"134.202\" y2=\"6.031\" stroke-linecap=\"round\" style=\"stroke:blue;stroke-width:1\" /><line x1=\"134.202\" y1=\"6.031\" x2=\"100.0\" y2=\"100.0\" stroke-linecap=\"round\" style=\"stroke:blue;stroke-width:1\" /><line x1=\"100.0\" y1=\"100.0\" x2=\"150.0\" y2=\"13.397\" stroke-linecap=\"round\" style=\"stroke:blue;stroke-width:1\" /><line x1=\"150.0\" y1=\"13.397\" x2=\"100.0\" y2=\"100.0\" stroke-linecap=\"round\" style=\"stroke:blue;stroke-width:1\" /><line x1=\"100.0\" y1=\"100.0\" x2=\"164.279\" y2=\"23.396\" stroke-linecap=\"round\" style=\"stroke:blue;stroke-width:1\" /><line x1=\"164.279\" y1=\"23.396\" x2=\"100.0\" y2=\"100.0\" stroke-linecap=\"round\" style=\"stroke:blue;stroke-width:1\" /><line x1=\"100.0\" y1=\"100.0\" x2=\"176.604\" y2=\"35.721\" stroke-linecap=\"round\" style=\"stroke:blue;stroke-width:1\" /><line x1=\"176.604\" y1=\"35.721\" x2=\"100.0\" y2=\"100.0\" stroke-linecap=\"round\" style=\"stroke:blue;stroke-width:1\" /><line x1=\"100.0\" y1=\"100.0\" x2=\"186.603\" y2=\"50.0\" stroke-linecap=\"round\" style=\"stroke:blue;stroke-width:1\" /><line x1=\"186.603\" y1=\"50.0\" x2=\"100.0\" y2=\"100.0\" stroke-linecap=\"round\" style=\"stroke:blue;stroke-width:1\" /><line x1=\"100.0\" y1=\"100.0\" x2=\"193.969\" y2=\"65.798\" stroke-linecap=\"round\" style=\"stroke:blue;stroke-width:1\" /><line x1=\"193.969\" y1=\"65.798\" x2=\"100.0\" y2=\"100.0\" stroke-linecap=\"round\" style=\"stroke:blue;stroke-width:1\" /><line x1=\"100.0\" y1=\"100.0\" x2=\"198.481\" y2=\"82.635\" stroke-linecap=\"round\" style=\"stroke:blue;stroke-width:1\" /><line x1=\"198.481\" y1=\"82.635\" x2=\"100.0\" y2=\"100.0\" stroke-linecap=\"round\" style=\"stroke:blue;stroke-width:1\" />\n",
              "        \n",
              "        \n",
              "        <g id=\"classic\" visibility=\"visible\" transform=\"rotate(260,100.0,100.0) translate(100.0, 100.0)\">\n",
              "<polygon points=\"-5,-4.5 0,-2.5 5,-4.5 0,4.5\" transform=\"skewX(0) scale(1,1)\" style=\"stroke:blue;fill:black;stroke-width:1\" />\n",
              "<animateTransform id = \"one\" attributeName=\"transform\" \n",
              "                      type=\"scale\"\n",
              "                      from=\"1 1\" to=\"1 1\"\n",
              "                      begin=\"0s\" dur=\"0.01s\"\n",
              "                      repeatCount=\"1\"\n",
              "                      additive=\"sum\"\n",
              "                      fill=\"freeze\"\n",
              "                /><animateTransform attributeName=\"transform\"\n",
              "                    type=\"rotate\"\n",
              "                    from=\"0 0 0\" to =\"10 0 0\"\n",
              "                    begin=\"one.end\" dur=\"0.008888888888888889s\"\n",
              "                    repeatCount=\"1\"\n",
              "                    additive=\"sum\"\n",
              "                    fill=\"freeze\"\n",
              "                /></g>\n",
              "      </svg>\n",
              "    "
            ],
            "text/plain": [
              "<IPython.core.display.HTML object>"
            ]
          },
          "metadata": {},
          "output_type": "display_data"
        }
      ],
      "source": [
        "reset()\n",
        "speed(10)\n",
        "pencolor(\"blue\")\n",
        "\n",
        "for _ in range(36):   # 36 times, 10° each = full circle\n",
        "    forward(100)\n",
        "    backward(100)\n",
        "    right(10)"
      ]
    },
    {
      "cell_type": "code",
      "execution_count": 20,
      "metadata": {
        "colab": {
          "base_uri": "https://localhost:8080/",
          "height": 621
        },
        "id": "2IWKTIaeVGma",
        "outputId": "ab9b810b-29c6-45b7-a82f-a4cde96d7749"
      },
      "outputs": [
        {
          "data": {
            "text/html": [
              "\n",
              "      <svg width=\"800\" height=\"600\">  \n",
              "        <rect width=\"100%\" height=\"100%\" style=\"fill:black;stroke:;stroke-width:1\"/>\n",
              "        \n",
              "        \n",
              "        <path d=\"M 400.0 300.0 A -80 -80 0 0 1 240.0 300.0\" stroke-linecap=\"round\" \n",
              "            fill=\"transparent\" fill-opacity=\"0\" style=\"stroke:violet;stroke-width:10\"/><path d=\"M 390.0 300.0 A -90 -90 0 0 1 210.0 300.0\" stroke-linecap=\"round\" \n",
              "            fill=\"transparent\" fill-opacity=\"0\" style=\"stroke:indigo;stroke-width:10\"/><path d=\"M 380.0 300.0 A -100 -100 0 0 1 180.0 300.0\" stroke-linecap=\"round\" \n",
              "            fill=\"transparent\" fill-opacity=\"0\" style=\"stroke:blue;stroke-width:10\"/><path d=\"M 370.0 300.0 A -110 -110 0 0 1 150.0 300.0\" stroke-linecap=\"round\" \n",
              "            fill=\"transparent\" fill-opacity=\"0\" style=\"stroke:green;stroke-width:10\"/><path d=\"M 360.0 300.0 A -120 -120 0 0 1 120.0 300.0\" stroke-linecap=\"round\" \n",
              "            fill=\"transparent\" fill-opacity=\"0\" style=\"stroke:yellow;stroke-width:10\"/><path d=\"M 350.0 300.0 A -130 -130 0 0 1 90.0 300.0\" stroke-linecap=\"round\" \n",
              "            fill=\"transparent\" fill-opacity=\"0\" style=\"stroke:orange;stroke-width:10\"/><path d=\"M 340.0 300.0 A -140 -140 0 0 1 60.0 300.0\" stroke-linecap=\"round\" \n",
              "            fill=\"transparent\" fill-opacity=\"0\" style=\"stroke:red;stroke-width:10\"/>\n",
              "        \n",
              "        \n",
              "        <g id=\"classic\" visibility=\"hidden\" transform=\"rotate(0.0,330.0,300.0) translate(330.0, 300.0)\">\n",
              "<polygon points=\"-5,-4.5 0,-2.5 5,-4.5 0,4.5\" transform=\"skewX(0) scale(1,1)\" style=\"stroke:red;fill:black;stroke-width:1\" />\n",
              "</g>\n",
              "      </svg>\n",
              "    "
            ],
            "text/plain": [
              "<IPython.core.display.HTML object>"
            ]
          },
          "metadata": {},
          "output_type": "display_data"
        }
      ],
      "source": [
        "reset()\n",
        "speed(7)\n",
        "pensize(10)\n",
        "bgcolor('black')\n",
        "right(90)  # start facing downward, like your original\n",
        "\n",
        "def semi_circle(col, rad, x_pos):\n",
        "    pencolor(col)\n",
        "    # Use negative radius to draw clockwise; extent stays positive\n",
        "    circle(-rad, 180)\n",
        "    penup()\n",
        "    goto(x_pos, 0)\n",
        "    pendown()\n",
        "    right(180)  # match your original flip\n",
        "\n",
        "colors = ['violet', 'indigo', 'blue', 'green', 'yellow', 'orange', 'red']\n",
        "\n",
        "for i, c in enumerate(colors):\n",
        "    semi_circle(c, 10*(i + 8), -10*(i + 1))\n",
        "\n",
        "hideturtle()"
      ]
    },
    {
      "cell_type": "code",
      "execution_count": 21,
      "metadata": {
        "colab": {
          "base_uri": "https://localhost:8080/",
          "height": 321
        },
        "id": "MD1XY4EsW-lr",
        "outputId": "d5965e7b-8e89-420e-d95e-763d0c591afb"
      },
      "outputs": [
        {
          "data": {
            "text/html": [
              "\n",
              "      <svg width=\"300\" height=\"300\">  \n",
              "        <rect width=\"100%\" height=\"100%\" style=\"fill:white;stroke:gray;stroke-width:1\"/>\n",
              "        \n",
              "        \n",
              "        <path fill-rule=\"evenodd\" fill-opacity=\"1\" d=\"M 150.0 150.0  L 250.0 150.0  L 250.0 50.0  L 150.0 50.0  L 150.0 150.0  A -50 -50 0 0 1 150.0 250.0  A -50 -50 0 0 1 150.0 150.0 \" stroke-linecap=\"round\" style=\"stroke:red;stroke-width:2\" fill=\"yellow\" />\n",
              "        \n",
              "        \n",
              "        <g id=\"turtle\" visibility=\"visible\" transform=\"rotate(90.0,150.0,150.0) translate(150.0, 150.0)\">\n",
              "<path style=\"stroke:black;fill-rule:evenodd;fill:green;fill-opacity:1;\" transform=\"skewX(0) scale(1,1)\" d=\"m 1.1536693,-18.56101 c -2.105469,1.167969 -3.203125,3.441407 -3.140625,6.5 l 0.011719,0.519532 -0.300782,-0.15625 c -1.308594,-0.671875 -2.828125,-0.824219 -4.378906,-0.429688 -1.9375,0.484375 -3.8906253,2.089844 -6.0117193,4.9257825 -1.332031,1.785156 -1.714843,2.644531 -1.351562,3.035156 l 0.113281,0.125 h 0.363281 c 0.71875,0 1.308594,-0.265625 4.6679693,-2.113282 1.199219,-0.660156 2.183594,-1.199218 2.191406,-1.199218 0.00781,0 -0.023437,0.089844 -0.074218,0.195312 -0.472657,1.058594 -1.046876,2.785156 -1.335938,4.042969 -1.054688,4.574219 -0.351562,8.453125 2.101562,11.582031 0.28125,0.355469 0.292969,0.253906 -0.097656,0.722656 -2.046875,2.4609375 -3.027344,4.8984375 -2.734375,6.8046875 0.050781,0.339844 0.042969,0.335938 0.679688,0.335938 2.023437,0 4.15625,-1.316407 6.21875,-3.835938 0.222656,-0.269531 0.191406,-0.261719 0.425781,-0.113281 0.730469,0.46875 2.460938,1.390625 2.613281,1.390625 0.160157,0 1.765625,-0.753906 2.652344,-1.246094 0.167969,-0.09375 0.308594,-0.164062 0.308594,-0.160156 0.066406,0.105468 0.761719,0.855468 1.085937,1.171875 1.613282,1.570312 3.339844,2.402343 5.3593747,2.570312 0.324219,0.02734 0.355469,0.0078 0.425781,-0.316406 0.375,-1.742187 -0.382812,-4.058594 -2.1445307,-6.5585935 l -0.320312,-0.457031 0.15625,-0.183594 c 3.2460927,-3.824218 3.4335927,-9.08593704 0.558593,-15.816406 l -0.050781,-0.125 1.7382807,0.859375 c 3.585938,1.773437 4.371094,2.097656 5.085938,2.097656 0.945312,0 0.75,-0.863281 -0.558594,-2.507812 C 11.458356,-11.838353 8.3333563,-13.268041 4.8607003,-11.721166 l -0.363281,0.164063 0.019531,-0.09375 c 0.121094,-0.550781 0.183594,-1.800781 0.121094,-2.378907 -0.203125,-1.867187 -1.035157,-3.199218 -2.695313,-4.308593 -0.523437,-0.351563 -0.546875,-0.355469 -0.789062,-0.222657\" />\n",
              "</g>\n",
              "      </svg>\n",
              "    "
            ],
            "text/plain": [
              "<IPython.core.display.HTML object>"
            ]
          },
          "metadata": {},
          "output_type": "display_data"
        }
      ],
      "source": [
        "\n",
        "clearscreen()\n",
        "setup(300,300)\n",
        "showborder()\n",
        "color(\"red\", \"yellow\")\n",
        "shape(\"turtle\")\n",
        "pensize(2)\n",
        "speed(7)\n",
        "begin_fill()\n",
        "for _ in range(4):\n",
        "  forward(100)\n",
        "  left(90)\n",
        "circle(-50)\n",
        "end_fill()\n",
        "color(\"black\",\"green\")\n",
        "saveSVG(turtle=True)"
      ]
    }
  ],
  "metadata": {
    "colab": {
      "provenance": []
    },
    "kernelspec": {
      "display_name": "Python 3",
      "name": "python3"
    },
    "language_info": {
      "name": "python"
    }
  },
  "nbformat": 4,
  "nbformat_minor": 0
}
