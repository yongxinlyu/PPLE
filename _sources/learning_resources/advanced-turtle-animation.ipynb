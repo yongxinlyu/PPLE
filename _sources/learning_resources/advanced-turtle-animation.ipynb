{
  "cells": [
    {
      "cell_type": "markdown",
      "metadata": {
        "id": "_qKqNLUVypEf"
      },
      "source": [
        "### Advanced Animations"
      ]
    },
    {
      "cell_type": "code",
      "execution_count": 1,
      "metadata": {
        "colab": {
          "base_uri": "https://localhost:8080/"
        },
        "id": "SCYQVHJBTumX",
        "outputId": "7ac0af11-dd26-4e58-ea1a-82acafc0e0bb"
      },
      "outputs": [
        {
          "output_type": "stream",
          "name": "stdout",
          "text": [
            "Put clearscreen() as the first line in a cell (after the import command) to re-run turtle commands in the cell\n"
          ]
        }
      ],
      "source": [
        "!pip install ColabTurtlePlus -q\n",
        "from ColabTurtlePlus.Turtle import *"
      ]
    },
    {
      "cell_type": "markdown",
      "source": [
        "#### Define a reusable function"
      ],
      "metadata": {
        "id": "wt4X5OleePOA"
      }
    },
    {
      "cell_type": "code",
      "source": [
        "import math\n",
        "\n",
        "def draw_star(x, y, size):\n",
        "    \"\"\"\n",
        "    Draw a filled 5-point star centered at (x, y) with given size.\n",
        "    \"\"\"\n",
        "    # Geometry setup\n",
        "    outer_radius = size / 2\n",
        "    inner_radius = outer_radius * 0.5  # ratio controls inner points (can tweak)\n",
        "\n",
        "    # Move to first outer point\n",
        "    penup()\n",
        "    goto(x, y + outer_radius)\n",
        "    setheading(90)\n",
        "    pendown()\n",
        "    begin_fill()\n",
        "\n",
        "    # Draw 10-point polygon (alternating outer and inner vertices)\n",
        "    for i in range(9):\n",
        "        i = i+1\n",
        "        angle_deg = i * 36  # 360 / 10 = 36°\n",
        "        r = outer_radius if i % 2 == 0 else inner_radius\n",
        "        x_i = x + r * math.sin(math.radians(angle_deg))\n",
        "        y_i = y + r * math.cos(math.radians(angle_deg))\n",
        "        goto(x_i, y_i)\n",
        "\n",
        "    end_fill()\n",
        "    penup()\n",
        "\n",
        "def draw_line(x1, y1, x2, y2):\n",
        "    penup()\n",
        "    goto(x1, y1)\n",
        "    pendown()\n",
        "    goto(x2, y2)\n"
      ],
      "metadata": {
        "id": "GMHvo-eoPcmm"
      },
      "execution_count": 2,
      "outputs": []
    },
    {
      "cell_type": "code",
      "source": [
        "# === Example usage ===\n",
        "clearscreen()\n",
        "initializeTurtle()\n",
        "speed(5)\n",
        "bgcolor(\"black\")\n",
        "\n",
        "color(\"gold\")\n",
        "draw_star(-100, 100, 20)\n",
        "color(\"deepskyblue\")\n",
        "draw_star(100, -50, 20)\n",
        "color(\"white\")\n",
        "draw_star(0, 0, 20)\n",
        "\n",
        "hideturtle()"
      ],
      "metadata": {
        "id": "55MNCmNGRgwq",
        "outputId": "34607f11-8554-49e3-bf34-4c88d5aff965",
        "colab": {
          "base_uri": "https://localhost:8080/",
          "height": 621
        }
      },
      "execution_count": 3,
      "outputs": [
        {
          "output_type": "display_data",
          "data": {
            "text/plain": [
              "<IPython.core.display.HTML object>"
            ],
            "text/html": [
              "\n",
              "      <svg width=\"800\" height=\"600\">  \n",
              "        <rect width=\"100%\" height=\"100%\" style=\"fill:black;stroke:;stroke-width:1\"/>\n",
              "        \n",
              "        \n",
              "        <path fill-rule=\"evenodd\" fill-opacity=\"1\" d=\"M 300.0 190.0  L 302.939 195.955  L 309.511 196.91  L 304.755 201.545  L 305.878 208.09  L 300.0 205.0  L 294.122 208.09  L 295.245 201.545  L 290.489 196.91  L 297.061 195.955 \" stroke-linecap=\"round\" style=\"stroke:gold;stroke-width:1\" fill=\"gold\" /><path fill-rule=\"evenodd\" fill-opacity=\"1\" d=\"M 500.0 340.0  L 502.939 345.955  L 509.511 346.91  L 504.755 351.545  L 505.878 358.09  L 500.0 355.0  L 494.122 358.09  L 495.245 351.545  L 490.489 346.91  L 497.061 345.955 \" stroke-linecap=\"round\" style=\"stroke:deepskyblue;stroke-width:1\" fill=\"deepskyblue\" /><path fill-rule=\"evenodd\" fill-opacity=\"1\" d=\"M 400.0 290.0  L 402.939 295.955  L 409.511 296.91  L 404.755 301.545  L 405.878 308.09  L 400.0 305.0  L 394.122 308.09  L 395.245 301.545  L 390.489 296.91  L 397.061 295.955 \" stroke-linecap=\"round\" style=\"stroke:white;stroke-width:1\" fill=\"white\" />\n",
              "        \n",
              "        \n",
              "        <g id=\"classic\" visibility=\"hidden\" transform=\"rotate(180,397.061,295.955) translate(397.061, 295.955)\">\n",
              "<polygon points=\"-5,-4.5 0,-2.5 5,-4.5 0,4.5\" transform=\"skewX(0) scale(1,1)\" style=\"stroke:white;fill:white;stroke-width:1\" />\n",
              "</g>\n",
              "      </svg>\n",
              "    "
            ]
          },
          "metadata": {}
        }
      ]
    },
    {
      "cell_type": "markdown",
      "source": [
        "#### Drawing Constellation"
      ],
      "metadata": {
        "id": "urGKm7gNdkIZ"
      }
    },
    {
      "cell_type": "code",
      "source": [
        "# Star sizes are \"fake magnitudes\" just to make bright stars pop a bit\n",
        "# Coordinates are an artist's layout to resemble Aquarius' shape\n",
        "\n",
        "stars = {\n",
        "    \"Sadalmelik (Alpha)\":   (-240,  160, 13),  # Left shoulder\n",
        "    \"Sadalsuud (Beta)\":     (-160,  180, 14),  # Right shoulder (brightest)\n",
        "    \"Sadachbia (Gamma)\":    (-120,   80, 11),  # Water jar\n",
        "    \"Zeta (Zeta)\":          (-200,  120, 10),  # Near Sadalmelik\n",
        "    \"Eta (Eta)\":            ( -80,   30, 10),  # Part of water jar\n",
        "    \"Albali (Epsilon)\":     ( -40,   10, 11),  # Torso / arm\n",
        "    \"Ancha (Theta)\":        (  10,   60, 10),  # Upper torso\n",
        "    \"Skat (Delta)\":         (  40,  -10, 12),  # Lower torso / leg\n",
        "    \"Iota (Iota)\":          (  80, -120, 10),  # Lower right\n",
        "    \"Tau (Tau)\":            ( -10,  -60,  9),  # Lower left\n",
        "    \"Lambda (Lambda)\":      (-300,  100,  9),  # Faint star to left\n",
        "}\n",
        "\n",
        "# Connections (rough outline of Aquarius constellation)\n",
        "connections = [\n",
        "    (\"Lambda (Lambda)\", \"Sadalmelik (Alpha)\"),\n",
        "    (\"Sadalmelik (Alpha)\", \"Zeta (Zeta)\"),\n",
        "    (\"Zeta (Zeta)\", \"Sadalsuud (Beta)\"),\n",
        "    (\"Sadalsuud (Beta)\", \"Ancha (Theta)\"),\n",
        "    (\"Ancha (Theta)\", \"Albali (Epsilon)\"),\n",
        "    (\"Albali (Epsilon)\", \"Skat (Delta)\"),\n",
        "    (\"Skat (Delta)\", \"Iota (Iota)\"),\n",
        "    (\"Albali (Epsilon)\", \"Eta (Eta)\"),\n",
        "    (\"Eta (Eta)\", \"Sadachbia (Gamma)\"),\n",
        "    (\"Sadachbia (Gamma)\", \"Zeta (Zeta)\"),\n",
        "    (\"Sadachbia (Gamma)\", \"Tau (Tau)\"),\n",
        "    (\"Tau (Tau)\", \"Skat (Delta)\"),\n",
        "]"
      ],
      "metadata": {
        "id": "l6mFnyJNc4aE"
      },
      "execution_count": 11,
      "outputs": []
    },
    {
      "cell_type": "code",
      "source": [
        "# ========== Draw ==========\n",
        "clearscreen()\n",
        "initializeTurtle()\n",
        "speed(13)\n",
        "bgcolor(\"black\")\n",
        "\n",
        "\n",
        "# Draw stars (dots + labels)\n",
        "\n",
        "pencolor(\"gold\")\n",
        "fillcolor(\"gold\")\n",
        "pensize(1)\n",
        "for name, (x, y, size) in stars.items():\n",
        "    draw_star(x, y, 20)\n",
        "\n",
        "# Draw constellation lines\n",
        "pencolor(\"white\")\n",
        "pensize(2)\n",
        "for a, b in connections:\n",
        "    x1, y1, _ = stars[a]\n",
        "    x2, y2, _ = stars[b]\n",
        "    draw_line(x1, y1, x2, y2)\n",
        "\n",
        "# Write some text\n",
        "penup()\n",
        "goto(-100, -150)\n",
        "pencolor(\"gold\")\n",
        "write(\"Constellation Aquarius by Yongxin\", font=(\"Arial\", 15, \"normal\"))\n",
        "\n",
        "hideturtle()\n"
      ],
      "metadata": {
        "id": "WXlnfzsizR0A",
        "outputId": "48f06d3f-92ca-4276-e84f-14884603314b",
        "colab": {
          "base_uri": "https://localhost:8080/",
          "height": 621
        }
      },
      "execution_count": 17,
      "outputs": [
        {
          "output_type": "display_data",
          "data": {
            "text/plain": [
              "<IPython.core.display.HTML object>"
            ],
            "text/html": [
              "\n",
              "      <svg width=\"800\" height=\"600\">  \n",
              "        <rect width=\"100%\" height=\"100%\" style=\"fill:black;stroke:;stroke-width:1\"/>\n",
              "        \n",
              "        \n",
              "        <path fill-rule=\"evenodd\" fill-opacity=\"1\" d=\"M 160.0 130.0  L 162.939 135.955  L 169.511 136.91  L 164.755 141.545  L 165.878 148.09  L 160.0 145.0  L 154.122 148.09  L 155.245 141.545  L 150.489 136.91  L 157.061 135.955 \" stroke-linecap=\"round\" style=\"stroke:gold;stroke-width:1\" fill=\"gold\" /><path fill-rule=\"evenodd\" fill-opacity=\"1\" d=\"M 240.0 110.0  L 242.939 115.955  L 249.511 116.91  L 244.755 121.545  L 245.878 128.09  L 240.0 125.0  L 234.122 128.09  L 235.245 121.545  L 230.489 116.91  L 237.061 115.955 \" stroke-linecap=\"round\" style=\"stroke:gold;stroke-width:1\" fill=\"gold\" /><path fill-rule=\"evenodd\" fill-opacity=\"1\" d=\"M 280.0 210.0  L 282.939 215.955  L 289.511 216.91  L 284.755 221.545  L 285.878 228.09  L 280.0 225.0  L 274.122 228.09  L 275.245 221.545  L 270.489 216.91  L 277.061 215.955 \" stroke-linecap=\"round\" style=\"stroke:gold;stroke-width:1\" fill=\"gold\" /><path fill-rule=\"evenodd\" fill-opacity=\"1\" d=\"M 200.0 170.0  L 202.939 175.955  L 209.511 176.91  L 204.755 181.545  L 205.878 188.09  L 200.0 185.0  L 194.122 188.09  L 195.245 181.545  L 190.489 176.91  L 197.061 175.955 \" stroke-linecap=\"round\" style=\"stroke:gold;stroke-width:1\" fill=\"gold\" /><path fill-rule=\"evenodd\" fill-opacity=\"1\" d=\"M 320.0 260.0  L 322.939 265.955  L 329.511 266.91  L 324.755 271.545  L 325.878 278.09  L 320.0 275.0  L 314.122 278.09  L 315.245 271.545  L 310.489 266.91  L 317.061 265.955 \" stroke-linecap=\"round\" style=\"stroke:gold;stroke-width:1\" fill=\"gold\" /><path fill-rule=\"evenodd\" fill-opacity=\"1\" d=\"M 360.0 280.0  L 362.939 285.955  L 369.511 286.91  L 364.755 291.545  L 365.878 298.09  L 360.0 295.0  L 354.122 298.09  L 355.245 291.545  L 350.489 286.91  L 357.061 285.955 \" stroke-linecap=\"round\" style=\"stroke:gold;stroke-width:1\" fill=\"gold\" /><path fill-rule=\"evenodd\" fill-opacity=\"1\" d=\"M 410.0 230.0  L 412.939 235.955  L 419.511 236.91  L 414.755 241.545  L 415.878 248.09  L 410.0 245.0  L 404.122 248.09  L 405.245 241.545  L 400.489 236.91  L 407.061 235.955 \" stroke-linecap=\"round\" style=\"stroke:gold;stroke-width:1\" fill=\"gold\" /><path fill-rule=\"evenodd\" fill-opacity=\"1\" d=\"M 440.0 300.0  L 442.939 305.955  L 449.511 306.91  L 444.755 311.545  L 445.878 318.09  L 440.0 315.0  L 434.122 318.09  L 435.245 311.545  L 430.489 306.91  L 437.061 305.955 \" stroke-linecap=\"round\" style=\"stroke:gold;stroke-width:1\" fill=\"gold\" /><path fill-rule=\"evenodd\" fill-opacity=\"1\" d=\"M 480.0 410.0  L 482.939 415.955  L 489.511 416.91  L 484.755 421.545  L 485.878 428.09  L 480.0 425.0  L 474.122 428.09  L 475.245 421.545  L 470.489 416.91  L 477.061 415.955 \" stroke-linecap=\"round\" style=\"stroke:gold;stroke-width:1\" fill=\"gold\" /><path fill-rule=\"evenodd\" fill-opacity=\"1\" d=\"M 390.0 350.0  L 392.939 355.955  L 399.511 356.91  L 394.755 361.545  L 395.878 368.09  L 390.0 365.0  L 384.122 368.09  L 385.245 361.545  L 380.489 356.91  L 387.061 355.955 \" stroke-linecap=\"round\" style=\"stroke:gold;stroke-width:1\" fill=\"gold\" /><path fill-rule=\"evenodd\" fill-opacity=\"1\" d=\"M 100.0 190.0  L 102.939 195.955  L 109.511 196.91  L 104.755 201.545  L 105.878 208.09  L 100.0 205.0  L 94.122 208.09  L 95.245 201.545  L 90.489 196.91  L 97.061 195.955 \" stroke-linecap=\"round\" style=\"stroke:gold;stroke-width:1\" fill=\"gold\" /><line x1=\"100.0\" y1=\"200.0\" x2=\"160.0\" y2=\"140.0\" stroke-linecap=\"round\" style=\"stroke:white;stroke-width:2\" /><line x1=\"160.0\" y1=\"140.0\" x2=\"200.0\" y2=\"180.0\" stroke-linecap=\"round\" style=\"stroke:white;stroke-width:2\" /><line x1=\"200.0\" y1=\"180.0\" x2=\"240.0\" y2=\"120.0\" stroke-linecap=\"round\" style=\"stroke:white;stroke-width:2\" /><line x1=\"240.0\" y1=\"120.0\" x2=\"410.0\" y2=\"240.0\" stroke-linecap=\"round\" style=\"stroke:white;stroke-width:2\" /><line x1=\"410.0\" y1=\"240.0\" x2=\"360.0\" y2=\"290.0\" stroke-linecap=\"round\" style=\"stroke:white;stroke-width:2\" /><line x1=\"360.0\" y1=\"290.0\" x2=\"440.0\" y2=\"310.0\" stroke-linecap=\"round\" style=\"stroke:white;stroke-width:2\" /><line x1=\"440.0\" y1=\"310.0\" x2=\"480.0\" y2=\"420.0\" stroke-linecap=\"round\" style=\"stroke:white;stroke-width:2\" /><line x1=\"360.0\" y1=\"290.0\" x2=\"320.0\" y2=\"270.0\" stroke-linecap=\"round\" style=\"stroke:white;stroke-width:2\" /><line x1=\"320.0\" y1=\"270.0\" x2=\"280.0\" y2=\"220.0\" stroke-linecap=\"round\" style=\"stroke:white;stroke-width:2\" /><line x1=\"280.0\" y1=\"220.0\" x2=\"200.0\" y2=\"180.0\" stroke-linecap=\"round\" style=\"stroke:white;stroke-width:2\" /><line x1=\"280.0\" y1=\"220.0\" x2=\"390.0\" y2=\"360.0\" stroke-linecap=\"round\" style=\"stroke:white;stroke-width:2\" /><line x1=\"390.0\" y1=\"360.0\" x2=\"440.0\" y2=\"310.0\" stroke-linecap=\"round\" style=\"stroke:white;stroke-width:2\" /><text x=\"300.0\" y=\"450.0\" fill=\"gold\" text-anchor=\"start\" style=\"font-size:15px;font-family:'Arial';\">Constellation Aquarius by Yongxin</text>\n",
              "        \n",
              "        \n",
              "        <g id=\"classic\" visibility=\"hidden\" transform=\"rotate(180,300.0,450.0) translate(300.0, 450.0)\">\n",
              "<polygon points=\"-5,-4.5 0,-2.5 5,-4.5 0,4.5\" transform=\"skewX(0) scale(1,1)\" style=\"stroke:gold;fill:gold;stroke-width:1\" />\n",
              "</g>\n",
              "      </svg>\n",
              "    "
            ]
          },
          "metadata": {}
        }
      ]
    },
    {
      "cell_type": "markdown",
      "source": [
        "#### Saving the animations"
      ],
      "metadata": {
        "id": "QRHek75bekjB"
      }
    },
    {
      "cell_type": "code",
      "source": [
        "# Start screen recording after running this cell\n",
        "# Mac: Shift + Cmd + 5 or Screenshot.app → Record Selected Portion\n",
        "# Windows: Win + G or Snipping Tool\n",
        "# Wait 5 seconds to prepare before the animation starts\n",
        "\n",
        "delay(5)\n",
        "\n",
        "\n",
        "# Put your animation code below"
      ],
      "metadata": {
        "id": "2mlPH3jdazoG"
      },
      "execution_count": null,
      "outputs": []
    }
  ],
  "metadata": {
    "colab": {
      "provenance": [],
      "toc_visible": true
    },
    "kernelspec": {
      "display_name": "CEIC6789",
      "language": "python",
      "name": "python3"
    },
    "language_info": {
      "codemirror_mode": {
        "name": "ipython",
        "version": 3
      },
      "file_extension": ".py",
      "mimetype": "text/x-python",
      "name": "python",
      "nbconvert_exporter": "python",
      "pygments_lexer": "ipython3",
      "version": "3.13.3"
    }
  },
  "nbformat": 4,
  "nbformat_minor": 0
}