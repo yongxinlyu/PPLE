{
 "cells": [
  {
   "cell_type": "markdown",
   "id": "1362543e",
   "metadata": {},
   "source": [
    "### Mouse-bear by Serena"
   ]
  },
  {
   "cell_type": "code",
   "execution_count": 1,
   "id": "5fd333eb",
   "metadata": {},
   "outputs": [
    {
     "name": "stdout",
     "output_type": "stream",
     "text": [
      "Put clearscreen() as the first line in a cell (after the import command) to re-run turtle commands in the cell\n"
     ]
    }
   ],
   "source": [
    "!pip install ColabTurtlePlus\n",
    "from ColabTurtlePlus.Turtle import *"
   ]
  },
  {
   "cell_type": "code",
   "execution_count": 2,
   "id": "8e0157e6",
   "metadata": {},
   "outputs": [
    {
     "data": {
      "text/html": [
       "\n",
       "      <svg width=\"800\" height=\"600\">  \n",
       "        <rect width=\"100%\" height=\"100%\" style=\"fill:white;stroke:;stroke-width:1\"/>\n",
       "        \n",
       "        \n",
       "        <path fill-rule=\"evenodd\" fill-opacity=\"1\" d=\"M 400.0 400.0  A 150 150 0 0 0 400.0 100.0  A 150 150 0 0 0 400.0 400.0 \" stroke-linecap=\"round\" style=\"stroke:black;stroke-width:1\" fill=\"white\" /><path fill-rule=\"evenodd\" fill-opacity=\"1\" d=\"M 320.0 120.0  A 30 30 0 0 0 320.0 60.0  A 30 30 0 0 0 320.0 120.0 \" stroke-linecap=\"round\" style=\"stroke:black;stroke-width:1\" fill=\"white\" /><path fill-rule=\"evenodd\" fill-opacity=\"1\" d=\"M 480.0 120.0  A 30 30 0 0 0 480.0 60.0  A 30 30 0 0 0 480.0 120.0 \" stroke-linecap=\"round\" style=\"stroke:black;stroke-width:1\" fill=\"white\" /><path fill-rule=\"evenodd\" fill-opacity=\"1\" d=\"M 360.0 220.0  A 10 10 0 0 0 360.0 200.0  A 10 10 0 0 0 360.0 220.0 \" stroke-linecap=\"round\" style=\"stroke:black;stroke-width:1\" fill=\"black\" /><path fill-rule=\"evenodd\" fill-opacity=\"1\" d=\"M 440.0 220.0  A 10 10 0 0 0 440.0 200.0  A 10 10 0 0 0 440.0 220.0 \" stroke-linecap=\"round\" style=\"stroke:black;stroke-width:1\" fill=\"black\" /><path fill-rule=\"evenodd\" fill-opacity=\"1\" d=\"M 400.0 240.0  A 5 5 0 0 0 400.0 230.0  A 5 5 0 0 0 400.0 240.0 \" stroke-linecap=\"round\" style=\"stroke:black;stroke-width:1\" fill=\"black\" /><path d=\"M 390.0 255.0 A 15 15 0 0 0 415.981 255.0\" stroke-linecap=\"round\" \n",
       "            fill=\"transparent\" fill-opacity=\"0\" style=\"stroke:black;stroke-width:1\"/><path fill-rule=\"evenodd\" fill-opacity=\"1\" d=\"M 400.0 265.0  A 10 10 0 0 0 382.679 255.0  A 10 10 0 0 0 400.0 265.0 \" stroke-linecap=\"round\" style=\"stroke:#f493a6;stroke-width:1\" fill=\"#f493a6\" /><path fill-rule=\"evenodd\" fill-opacity=\"1\" d=\"M 330.0 280.0  L 470.0 280.0  L 400.0 340.0  L 330.0 280.0 \" stroke-linecap=\"round\" style=\"stroke:black;stroke-width:1\" fill=\"#7ec8f0\" /><line x1=\"260.0\" y1=\"260.0\" x2=\"319.088\" y2=\"249.581\" stroke-linecap=\"round\" style=\"stroke:black;stroke-width:6\" /><line x1=\"540.0\" y1=\"260.0\" x2=\"480.912\" y2=\"249.581\" stroke-linecap=\"round\" style=\"stroke:black;stroke-width:6\" /><line x1=\"260.0\" y1=\"260.0\" x2=\"229.358\" y2=\"234.288\" stroke-linecap=\"round\" style=\"stroke:black;stroke-width:6\" /><line x1=\"229.358\" y1=\"234.288\" x2=\"225.885\" y2=\"214.592\" stroke-linecap=\"round\" style=\"stroke:black;stroke-width:6\" /><line x1=\"540.0\" y1=\"260.0\" x2=\"570.642\" y2=\"234.288\" stroke-linecap=\"round\" style=\"stroke:black;stroke-width:6\" /><line x1=\"570.64\" y1=\"234.28\" x2=\"570.64\" y2=\"214.28\" stroke-linecap=\"round\" style=\"stroke:black;stroke-width:6\" /><line x1=\"577.64\" y1=\"234.28\" x2=\"577.64\" y2=\"214.28\" stroke-linecap=\"round\" style=\"stroke:black;stroke-width:6\" /><line x1=\"563.64\" y1=\"234.28\" x2=\"563.64\" y2=\"224.28\" stroke-linecap=\"round\" style=\"stroke:black;stroke-width:6\" /><line x1=\"563.64\" y1=\"224.28\" x2=\"563.64\" y2=\"214.28\" stroke-linecap=\"round\" style=\"stroke:black;stroke-width:6\" />\n",
       "        \n",
       "        \n",
       "        <g id=\"classic\" visibility=\"visible\" transform=\"rotate(180.0,563.64,214.28) translate(563.64, 214.28)\">\n",
       "<polygon points=\"-5,-4.5 0,-2.5 5,-4.5 0,4.5\" transform=\"skewX(0) scale(1,1)\" style=\"stroke:black;fill:black;stroke-width:1\" />\n",
       "</g>\n",
       "      </svg>\n",
       "    "
      ],
      "text/plain": [
       "<IPython.core.display.HTML object>"
      ]
     },
     "metadata": {},
     "output_type": "display_data"
    }
   ],
   "source": [
    "clearscreen()\n",
    "initializeTurtle()\n",
    "\n",
    "def move_to(x, y):\n",
    "    penup(); goto(x, y); pendown()\n",
    "\n",
    "color('black','white')\n",
    "move_to(0, -100)\n",
    "begin_fill(); circle(150); end_fill()\n",
    "\n",
    "for x in (-80, 80):\n",
    "    move_to(x, 180)\n",
    "    begin_fill(); circle(30); end_fill()\n",
    "\n",
    "color('black')\n",
    "for x in (-40, 40):\n",
    "    move_to(x, 80)\n",
    "    begin_fill(); circle(10); end_fill()\n",
    "\n",
    "move_to(0, 60)\n",
    "begin_fill(); circle(5); end_fill()\n",
    "\n",
    "move_to(-10, 45); setheading(-60)\n",
    "circle(15, extent=120)\n",
    "\n",
    "color('#F493A6','#F493A6')\n",
    "move_to(0, 35)\n",
    "begin_fill(); circle(10); end_fill()\n",
    "\n",
    "color('black','#7EC8F0')\n",
    "move_to(-70, 20)\n",
    "begin_fill()\n",
    "goto(70, 20)\n",
    "goto(0, -40)\n",
    "goto(-70, 20)\n",
    "end_fill()\n",
    "\n",
    "color('black'); pensize(6)\n",
    "\n",
    "move_to(-140, 40); setheading(10); forward(60)\n",
    "\n",
    "move_to(140, 40); setheading(170); forward(60)\n",
    "\n",
    "move_to(-140, 40); setheading(140); forward(40)  \n",
    "setheading(100); forward(20)                      \n",
    "\n",
    "move_to(140, 40); setheading(40); forward(40)   \n",
    "\n",
    "for dx in (0, 7, -7):\n",
    "    move_to(140+40*0.766 + dx, 40+40*0.643)  \n",
    "    setheading(90); forward(20)\n"
   ]
  },
  {
   "cell_type": "code",
   "execution_count": null,
   "id": "f91ca63f",
   "metadata": {},
   "outputs": [],
   "source": []
  }
 ],
 "metadata": {
  "kernelspec": {
   "display_name": "CEIC6789",
   "language": "python",
   "name": "python3"
  },
  "language_info": {
   "codemirror_mode": {
    "name": "ipython",
    "version": 3
   },
   "file_extension": ".py",
   "mimetype": "text/x-python",
   "name": "python",
   "nbconvert_exporter": "python",
   "pygments_lexer": "ipython3",
   "version": "3.13.3"
  }
 },
 "nbformat": 4,
 "nbformat_minor": 5
}
