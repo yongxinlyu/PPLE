{
 "cells": [
  {
   "cell_type": "markdown",
   "id": "0c82b882",
   "metadata": {},
   "source": [
    "### Apple without a mouth by Yuhua"
   ]
  },
  {
   "cell_type": "code",
   "execution_count": null,
   "id": "bc6a7e1d",
   "metadata": {},
   "outputs": [
    {
     "name": "stdout",
     "output_type": "stream",
     "text": [
      "Put clearscreen() as the first line in a cell (after the import command) to re-run turtle commands in the cell\n"
     ]
    }
   ],
   "source": [
    "!pip install ColabTurtlePlus\n",
    "from ColabTurtlePlus.Turtle import *"
   ]
  },
  {
   "cell_type": "code",
   "execution_count": 2,
   "id": "46bf020f",
   "metadata": {},
   "outputs": [
    {
     "data": {
      "text/html": [
       "\n",
       "      <svg width=\"800\" height=\"600\">  \n",
       "        <rect width=\"100%\" height=\"100%\" style=\"fill:white;stroke:;stroke-width:1\"/>\n",
       "        \n",
       "        \n",
       "        <path fill-rule=\"evenodd\" fill-opacity=\"1\" d=\"M 400.0 300.0  A 100 100 0 0 0 400.0 100.0  A 100 100 0 0 0 400.0 300.0 \" stroke-linecap=\"round\" style=\"stroke:black;stroke-width:1\" fill=\"red\" /><line x1=\"400.0\" y1=\"100.0\" x2=\"400.0\" y2=\"50.0\" stroke-linecap=\"round\" style=\"stroke:red;stroke-width:5\" /><path fill-rule=\"evenodd\" fill-opacity=\"1\" d=\"M 345.0 100.0  A 40 40 0 0 0 399.641 85.359 \" stroke-linecap=\"round\" style=\"stroke:green;stroke-width:5\" fill=\"green\" /><path d=\"M 399.641 85.359 A 40 40 0 0 0 454.282 100.0\" stroke-linecap=\"round\" \n",
       "            fill=\"transparent\" fill-opacity=\"0\" style=\"stroke:green;stroke-width:5\"/><path fill-rule=\"evenodd\" fill-opacity=\"1\" d=\"M 454.282 100.0  L 360.0 200.0  A 10 10 0 0 0 380.0 200.0  A 10 10 0 0 0 360.0 200.0 \" stroke-linecap=\"round\" style=\"stroke:none;stroke-width:5\" fill=\"black\" /><path fill-rule=\"evenodd\" fill-opacity=\"1\" d=\"M 360.0 200.0  L 430.0 200.0  A 10 10 0 0 0 450.0 200.0  A 10 10 0 0 0 430.0 200.0 \" stroke-linecap=\"round\" style=\"stroke:none;stroke-width:5\" fill=\"black\" />\n",
       "        \n",
       "        \n",
       "        <g id=\"classic\" visibility=\"hidden\" transform=\"rotate(0.0,430.0,200.0) translate(430.0, 200.0)\">\n",
       "<polygon points=\"-5,-4.5 0,-2.5 5,-4.5 0,4.5\" transform=\"skewX(0) scale(1,1)\" style=\"stroke:black;fill:black;stroke-width:1\" />\n",
       "</g>\n",
       "      </svg>\n",
       "    "
      ],
      "text/plain": [
       "<IPython.core.display.HTML object>"
      ]
     },
     "metadata": {},
     "output_type": "display_data"
    }
   ],
   "source": [
    "# Draw a square with a loop\n",
    "\n",
    "clearscreen()\n",
    "initializeTurtle()\n",
    "speed(10)\n",
    "\n",
    "\n",
    "begin_fill()\n",
    "fillcolor(\"red\")\n",
    "circle(100)\n",
    "end_fill()\n",
    "\n",
    "penup()\n",
    "goto(0,200)\n",
    "pendown()\n",
    "\n",
    "pensize(5)\n",
    "color(\"red\")\n",
    "left(90)\n",
    "forward(50)\n",
    "\n",
    "penup()\n",
    "goto(-55,200)\n",
    "pendown()\n",
    "pensize(5)\n",
    "color(\"green\")\n",
    "right(120)\n",
    "begin_fill()\n",
    "fillcolor(\"green\")\n",
    "for _ in range(2):\n",
    "  circle(40,90)\n",
    "  right(120)\n",
    "  end_fill()\n",
    "\n",
    "for _ in range(1):\n",
    "  begin_fill()\n",
    "  penup()\n",
    "  goto(-40,100)\n",
    "  circle(10)\n",
    "  color(\"black\")\n",
    "  end_fill()\n",
    "\n",
    "  begin_fill()\n",
    "  penup()\n",
    "  goto(30,100)\n",
    "  circle(10)\n",
    "  color(\"black\")\n",
    "  end_fill()\n",
    " \n",
    "\n",
    "hideturtle()\n",
    "done()"
   ]
  },
  {
   "cell_type": "code",
   "execution_count": null,
   "id": "81e67e5c",
   "metadata": {},
   "outputs": [],
   "source": []
  }
 ],
 "metadata": {
  "kernelspec": {
   "display_name": "CEIC6789",
   "language": "python",
   "name": "python3"
  },
  "language_info": {
   "codemirror_mode": {
    "name": "ipython",
    "version": 3
   },
   "file_extension": ".py",
   "mimetype": "text/x-python",
   "name": "python",
   "nbconvert_exporter": "python",
   "pygments_lexer": "ipython3",
   "version": "3.13.3"
  }
 },
 "nbformat": 4,
 "nbformat_minor": 5
}
