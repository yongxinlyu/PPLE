{
 "cells": [
  {
   "cell_type": "markdown",
   "id": "5588ceab",
   "metadata": {},
   "source": [
    "### Super dog by Jason"
   ]
  },
  {
   "cell_type": "code",
   "execution_count": null,
   "id": "adc65d6e",
   "metadata": {},
   "outputs": [
    {
     "name": "stdout",
     "output_type": "stream",
     "text": [
      "Put clearscreen() as the first line in a cell (after the import command) to re-run turtle commands in the cell\n"
     ]
    }
   ],
   "source": [
    "!pip install ColabTurtlePlus\n",
    "from ColabTurtlePlus.Turtle import *"
   ]
  },
  {
   "cell_type": "code",
   "execution_count": 2,
   "id": "32bb86ea",
   "metadata": {},
   "outputs": [
    {
     "data": {
      "text/html": [
       "\n",
       "      <svg width=\"800\" height=\"600\">  \n",
       "        <rect width=\"100%\" height=\"100%\" style=\"fill:white;stroke:;stroke-width:1\"/>\n",
       "        \n",
       "        \n",
       "        <path fill-rule=\"evenodd\" fill-opacity=\"1\" d=\"M 400.0 330.0  A 60 60 0 0 0 400.0 210.0  A 60 60 0 0 0 400.0 330.0 \" stroke-linecap=\"round\" style=\"stroke:black;stroke-width:2\" fill=\"saddlebrown\" /><path fill-rule=\"evenodd\" fill-opacity=\"1\" d=\"M 350.0 260.0  A 40 40 0 0 0 292.412 280.96 \" stroke-linecap=\"round\" style=\"stroke:black;stroke-width:2\" fill=\"peru\" /><path fill-rule=\"evenodd\" fill-opacity=\"1\" d=\"M 450.0 260.0  A -40 -40 0 0 1 507.588 280.96 \" stroke-linecap=\"round\" style=\"stroke:black;stroke-width:2\" fill=\"peru\" /><path fill-rule=\"evenodd\" fill-opacity=\"1\" d=\"M 375.0 265.0  A 10 10 0 0 0 393.794 258.16  A 10 10 0 0 0 375.0 265.0 \" stroke-linecap=\"round\" style=\"stroke:black;stroke-width:2\" fill=\"white\" /><path fill-rule=\"evenodd\" fill-opacity=\"1\" d=\"M 425.0 265.0  A 10 10 0 0 0 443.794 258.16  A 10 10 0 0 0 425.0 265.0 \" stroke-linecap=\"round\" style=\"stroke:black;stroke-width:2\" fill=\"white\" /><path fill-rule=\"evenodd\" fill-opacity=\"1\" d=\"M 375.0 260.0  A 4 4 0 0 0 382.518 257.264  A 4 4 0 0 0 375.0 260.0 \" stroke-linecap=\"round\" style=\"stroke:black;stroke-width:2\" fill=\"black\" /><path fill-rule=\"evenodd\" fill-opacity=\"1\" d=\"M 425.0 260.0  A 4 4 0 0 0 432.518 257.264  A 4 4 0 0 0 425.0 260.0 \" stroke-linecap=\"round\" style=\"stroke:black;stroke-width:2\" fill=\"black\" /><path fill-rule=\"evenodd\" fill-opacity=\"1\" d=\"M 400.0 280.0  A 8 8 0 0 0 415.035 274.528  A 8 8 0 0 0 400.0 280.0 \" stroke-linecap=\"round\" style=\"stroke:black;stroke-width:2\" fill=\"black\" /><path d=\"M 390.0 295.0 A 15 15 0 0 0 415.981 295.0\" stroke-linecap=\"round\" \n",
       "            fill=\"transparent\" fill-opacity=\"0\" style=\"stroke:black;stroke-width:2\"/>\n",
       "        \n",
       "        \n",
       "        <g id=\"classic\" visibility=\"hidden\" transform=\"rotate(210.0,415.981,295.0) translate(415.981, 295.0)\">\n",
       "<polygon points=\"-5,-4.5 0,-2.5 5,-4.5 0,4.5\" transform=\"skewX(0) scale(1,1)\" style=\"stroke:black;fill:black;stroke-width:1\" />\n",
       "</g>\n",
       "      </svg>\n",
       "    "
      ],
      "text/plain": [
       "<IPython.core.display.HTML object>"
      ]
     },
     "metadata": {},
     "output_type": "display_data"
    }
   ],
   "source": [
    "clearscreen()\n",
    "initializeTurtle()\n",
    "speed(10)\n",
    "pensize(2)\n",
    "\n",
    "# 小狗头部\n",
    "penup()\n",
    "goto(0, -30)\n",
    "pendown()\n",
    "fillcolor(\"saddlebrown\")\n",
    "begin_fill()\n",
    "circle(60)\n",
    "end_fill()\n",
    "\n",
    "# 左耳朵\n",
    "penup()\n",
    "goto(-50, 40)\n",
    "pendown()\n",
    "fillcolor(\"peru\")\n",
    "begin_fill()\n",
    "setheading(150)\n",
    "circle(40, 100)\n",
    "end_fill()\n",
    "\n",
    "# 右耳朵\n",
    "penup()\n",
    "goto(50, 40)\n",
    "pendown()\n",
    "fillcolor(\"peru\")\n",
    "begin_fill()\n",
    "setheading(30)\n",
    "circle(-40, 100)\n",
    "end_fill()\n",
    "\n",
    "# 左眼\n",
    "penup()\n",
    "goto(-25, 35)\n",
    "pendown()\n",
    "fillcolor(\"white\")\n",
    "begin_fill()\n",
    "circle(10)\n",
    "end_fill()\n",
    "\n",
    "# 右眼\n",
    "penup()\n",
    "goto(25, 35)\n",
    "pendown()\n",
    "begin_fill()\n",
    "circle(10)\n",
    "end_fill()\n",
    "\n",
    "# 左瞳孔\n",
    "penup()\n",
    "goto(-25, 40)\n",
    "pendown()\n",
    "fillcolor(\"black\")\n",
    "begin_fill()\n",
    "circle(4)\n",
    "end_fill()\n",
    "\n",
    "# 右瞳孔\n",
    "penup()\n",
    "goto(25, 40)\n",
    "pendown()\n",
    "begin_fill()\n",
    "circle(4)\n",
    "end_fill()\n",
    "\n",
    "# 鼻子\n",
    "penup()\n",
    "goto(0, 20)\n",
    "pendown()\n",
    "fillcolor(\"black\")\n",
    "begin_fill()\n",
    "circle(8)\n",
    "end_fill()\n",
    "\n",
    "# 嘴巴\n",
    "penup()\n",
    "goto(-10, 5)\n",
    "pendown()\n",
    "setheading(-60)\n",
    "circle(15, 120)\n",
    "\n",
    "hideturtle()"
   ]
  },
  {
   "cell_type": "code",
   "execution_count": null,
   "id": "deafc1b1",
   "metadata": {},
   "outputs": [],
   "source": []
  }
 ],
 "metadata": {
  "kernelspec": {
   "display_name": "CEIC6789",
   "language": "python",
   "name": "python3"
  },
  "language_info": {
   "codemirror_mode": {
    "name": "ipython",
    "version": 3
   },
   "file_extension": ".py",
   "mimetype": "text/x-python",
   "name": "python",
   "nbconvert_exporter": "python",
   "pygments_lexer": "ipython3",
   "version": "3.13.3"
  }
 },
 "nbformat": 4,
 "nbformat_minor": 5
}
