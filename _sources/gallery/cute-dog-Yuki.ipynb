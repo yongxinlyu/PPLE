{
 "cells": [
  {
   "cell_type": "markdown",
   "id": "9555c891",
   "metadata": {},
   "source": [
    "### Strange cute dog by Yuki"
   ]
  },
  {
   "cell_type": "code",
   "execution_count": null,
   "id": "ad3c06b4",
   "metadata": {},
   "outputs": [
    {
     "name": "stdout",
     "output_type": "stream",
     "text": [
      "Put clearscreen() as the first line in a cell (after the import command) to re-run turtle commands in the cell\n"
     ]
    }
   ],
   "source": [
    "!pip install ColabTurtlePlus\n",
    "from ColabTurtlePlus.Turtle import * # Use ColabTurtlePlus"
   ]
  },
  {
   "cell_type": "code",
   "execution_count": 2,
   "id": "5da14f3e",
   "metadata": {},
   "outputs": [
    {
     "data": {
      "text/html": [
       "\n",
       "      <svg width=\"800\" height=\"600\">  \n",
       "        <rect width=\"100%\" height=\"100%\" style=\"fill:white;stroke:;stroke-width:1\"/>\n",
       "        \n",
       "        \n",
       "        <path d=\"M 350.0 300.0 A 50 50 0 0 0 350.0 200.0\" stroke-linecap=\"round\" \n",
       "            fill=\"transparent\" fill-opacity=\"0\" style=\"stroke:black;stroke-width:3\"/><path d=\"M 350.0 200.0 A 50 50 0 0 0 350.0 300.0\" stroke-linecap=\"round\" \n",
       "            fill=\"transparent\" fill-opacity=\"0\" style=\"stroke:black;stroke-width:3\"/><path d=\"M 320.0 230.0 A 30 30 0 0 0 294.019 215.0\" stroke-linecap=\"round\" \n",
       "            fill=\"transparent\" fill-opacity=\"0\" style=\"stroke:black;stroke-width:3\"/><path d=\"M 430.0 230.0 A -30 -30 0 0 1 455.981 215.0\" stroke-linecap=\"round\" \n",
       "            fill=\"transparent\" fill-opacity=\"0\" style=\"stroke:black;stroke-width:3\"/><line x1=\"390.0\" y1=\"290.0\" x2=\"400.0\" y2=\"307.321\" stroke-linecap=\"round\" style=\"stroke:black;stroke-width:3\" /><line x1=\"390.0\" y1=\"290.0\" x2=\"380.0\" y2=\"307.321\" stroke-linecap=\"round\" style=\"stroke:black;stroke-width:3\" /><line x1=\"400.0\" y1=\"300.0\" x2=\"498.481\" y2=\"317.365\" stroke-linecap=\"round\" style=\"stroke:black;stroke-width:3\" /><line x1=\"498.481\" y1=\"317.365\" x2=\"519.002\" y2=\"373.747\" stroke-linecap=\"round\" style=\"stroke:black;stroke-width:3\" /><line x1=\"519.002\" y1=\"373.747\" x2=\"429.002\" y2=\"373.747\" stroke-linecap=\"round\" style=\"stroke:black;stroke-width:3\" /><line x1=\"429.002\" y1=\"373.747\" x2=\"418.583\" y2=\"314.659\" stroke-linecap=\"round\" style=\"stroke:black;stroke-width:3\" /><line x1=\"390.0\" y1=\"360.0\" x2=\"390.0\" y2=\"400.0\" stroke-linecap=\"round\" style=\"stroke:black;stroke-width:3\" /><line x1=\"390.0\" y1=\"400.0\" x2=\"400.0\" y2=\"400.0\" stroke-linecap=\"round\" style=\"stroke:black;stroke-width:3\" /><line x1=\"440.0\" y1=\"360.0\" x2=\"440.0\" y2=\"400.0\" stroke-linecap=\"round\" style=\"stroke:black;stroke-width:3\" /><line x1=\"440.0\" y1=\"400.0\" x2=\"450.0\" y2=\"400.0\" stroke-linecap=\"round\" style=\"stroke:black;stroke-width:3\" /><path d=\"M 490.0 310.0 A 30 30 0 0 0 476.551 259.809\" stroke-linecap=\"round\" \n",
       "            fill=\"transparent\" fill-opacity=\"0\" style=\"stroke:black;stroke-width:3\"/><text x=\"400.0\" y=\"420.0\" fill=\"black\" text-anchor=\"middle\" style=\"font-size:14px;font-family:'Arial';\">Cute Line Dog</text>\n",
       "        <circle cx=\"375.0\" cy=\"270.0\" r=\"4.0\" fill=\"black\" fill-opacity=\"1\" /><circle cx=\"405.0\" cy=\"270.0\" r=\"4.0\" fill=\"black\" fill-opacity=\"1\" /><circle cx=\"390.0\" cy=\"290.0\" r=\"5.0\" fill=\"black\" fill-opacity=\"1\" />\n",
       "        \n",
       "        <g id=\"classic\" visibility=\"hidden\" transform=\"rotate(105.0,400.0,420.0) translate(400.0, 420.0)\">\n",
       "<polygon points=\"-5,-4.5 0,-2.5 5,-4.5 0,4.5\" transform=\"skewX(0) scale(1,1)\" style=\"stroke:black;fill:black;stroke-width:1\" />\n",
       "</g>\n",
       "      </svg>\n",
       "    "
      ],
      "text/plain": [
       "<IPython.core.display.HTML object>"
      ]
     },
     "metadata": {},
     "output_type": "display_data"
    }
   ],
   "source": [
    "initializeTurtle() # Use ColabTurtlePlus initialization\n",
    "clearscreen() # Clear the canvas\n",
    "# screen.title(\"Dog\") # Title not supported in ColabTurtlePlus\n",
    "bgcolor(\"white\") # Use ColabTurtlePlus bgcolor\n",
    "\n",
    "pen = Turtle() # Use ColabTurtlePlus Turtle\n",
    "pen.pensize(3)\n",
    "pen.color(\"black\")\n",
    "pen.speed(3)\n",
    "\n",
    "def move_to(x, y):\n",
    "    pen.penup()\n",
    "    pen.goto(x, y)\n",
    "    pen.pendown()\n",
    "\n",
    "def draw_head():\n",
    "    move_to(-50, 0)\n",
    "    pen.circle(50)   \n",
    "    \n",
    "    move_to(-80, 70)\n",
    "    pen.setheading(120)\n",
    "    pen.circle(30, 60)\n",
    "    \n",
    "    move_to(30, 70)\n",
    "    pen.setheading(60)\n",
    "    pen.circle(-30, 60)\n",
    "    \n",
    "    move_to(-25, 30)\n",
    "    pen.dot(8)\n",
    "    move_to(5, 30)\n",
    "    pen.dot(8)\n",
    "    \n",
    "    move_to(-10, 10)\n",
    "    pen.dot(10)\n",
    "    \n",
    "    pen.setheading(-60)\n",
    "    pen.forward(20)\n",
    "    move_to(-10, 10)\n",
    "    pen.setheading(-120)\n",
    "    pen.forward(20)\n",
    "\n",
    "def draw_body():\n",
    "    move_to(0, 0)\n",
    "    pen.setheading(-10)\n",
    "    pen.forward(100)\n",
    "    pen.setheading(-70)\n",
    "    pen.forward(60)\n",
    "    pen.setheading(180)\n",
    "    pen.forward(90)\n",
    "    pen.setheading(100)\n",
    "    pen.forward(60)\n",
    "\n",
    "def draw_legs():\n",
    "    legs = [(-10, -60), (40, -60)]\n",
    "    for x, y in legs:\n",
    "        move_to(x, y)\n",
    "        pen.setheading(-90)\n",
    "        pen.forward(40)\n",
    "        pen.setheading(0)\n",
    "        pen.forward(10)\n",
    "\n",
    "def draw_tail():\n",
    "    move_to(90, -10)\n",
    "    pen.setheading(45)\n",
    "    pen.circle(30, 120)\n",
    "\n",
    "def draw_dog():\n",
    "    draw_head()\n",
    "    draw_body()\n",
    "    draw_legs()\n",
    "    draw_tail()\n",
    "    pen.hideturtle()\n",
    "    move_to(0, -120)\n",
    "    pen.write(\"Cute Line Dog\", align=\"center\", font=(\"Arial\", 14, \"normal\"))\n",
    "\n",
    "draw_dog()"
   ]
  },
  {
   "cell_type": "code",
   "execution_count": null,
   "id": "d4ed4aca",
   "metadata": {},
   "outputs": [],
   "source": []
  }
 ],
 "metadata": {
  "kernelspec": {
   "display_name": "CEIC6789",
   "language": "python",
   "name": "python3"
  },
  "language_info": {
   "codemirror_mode": {
    "name": "ipython",
    "version": 3
   },
   "file_extension": ".py",
   "mimetype": "text/x-python",
   "name": "python",
   "nbconvert_exporter": "python",
   "pygments_lexer": "ipython3",
   "version": "3.13.3"
  }
 },
 "nbformat": 4,
 "nbformat_minor": 5
}
